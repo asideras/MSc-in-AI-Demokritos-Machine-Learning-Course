{
 "cells": [
  {
   "cell_type": "code",
   "execution_count": 1,
   "id": "17f644ee",
   "metadata": {},
   "outputs": [],
   "source": [
    "import pandas as pd\n",
    "import numpy as np\n",
    "import warnings\n",
    "warnings.filterwarnings('ignore')\n",
    "from sklearn.metrics import precision_score,recall_score,f1_score,accuracy_score,classification_report, confusion_matrix,ConfusionMatrixDisplay, roc_auc_score, roc_curve\n",
    "from sklearn.discriminant_analysis import LinearDiscriminantAnalysis, QuadraticDiscriminantAnalysis\n",
    "from sklearn.linear_model import LogisticRegression\n",
    "from sklearn.neighbors import KNeighborsClassifier\n",
    "from sklearn.preprocessing import StandardScaler\n",
    "from sklearn.ensemble import AdaBoostClassifier\n",
    "from sklearn.naive_bayes import GaussianNB\n",
    "import matplotlib.pyplot as plt\n",
    "from sklearn import tree\n",
    "from sklearn import svm"
   ]
  },
  {
   "cell_type": "markdown",
   "id": "61e12add",
   "metadata": {},
   "source": [
    "Load the 3 datasets (all extracted features included)"
   ]
  },
  {
   "cell_type": "code",
   "execution_count": 2,
   "id": "6cde39d6",
   "metadata": {},
   "outputs": [],
   "source": [
    "X_train = pd.read_csv(\"../train_val_test_datasets/X_train.csv\") \n",
    "X_val = pd.read_csv(\"../train_val_test_datasets/X_val.csv\") \n",
    "X_test = pd.read_csv(\"../train_val_test_datasets/X_test.csv\")\n",
    "\n",
    "y_train = pd.read_csv(\"../train_val_test_datasets/y_train.csv\") \n",
    "y_val = pd.read_csv(\"../train_val_test_datasets/y_val.csv\")\n",
    "y_test = pd.read_csv(\"../train_val_test_datasets/y_test.csv\")"
   ]
  },
  {
   "cell_type": "markdown",
   "id": "85a88318",
   "metadata": {},
   "source": [
    "Choose selected features with respect to different methods. Define a file to save the results"
   ]
  },
  {
   "cell_type": "code",
   "execution_count": 3,
   "id": "5bbccbd2",
   "metadata": {},
   "outputs": [],
   "source": [
    "results_file = r\"../classifiers_results/feature_selection_rfe_results.txt\"\n",
    "selected_features_list = 'rfe.txt'\n",
    "f = open(results_file, \"w\")"
   ]
  },
  {
   "cell_type": "markdown",
   "id": "0ff997d6",
   "metadata": {},
   "source": [
    "# Get selected features"
   ]
  },
  {
   "cell_type": "markdown",
   "id": "436fd6cc",
   "metadata": {},
   "source": [
    "Folder 'important_features' includes .txt files which contain the features that each feature selection method selected"
   ]
  },
  {
   "cell_type": "code",
   "execution_count": 4,
   "id": "4efbb7d6",
   "metadata": {},
   "outputs": [],
   "source": [
    "selected_feats=[]\n",
    "with open(r'../important_features/'+selected_features_list, 'r') as fp:\n",
    "    for line in fp:\n",
    "        x = line[:-1]\n",
    "        selected_feats.append(x)\n",
    "\n",
    "X_train = X_train[selected_feats] #extract only these features\n",
    "X_val = X_val[selected_feats]\n",
    "X_test = X_test[selected_feats]"
   ]
  },
  {
   "cell_type": "code",
   "execution_count": 5,
   "id": "a57054b2",
   "metadata": {
    "scrolled": true
   },
   "outputs": [
    {
     "name": "stdout",
     "output_type": "stream",
     "text": [
      " 68 features have been selected\n"
     ]
    }
   ],
   "source": [
    "print(f' {len(selected_feats)} features have been selected')"
   ]
  },
  {
   "cell_type": "markdown",
   "id": "874d8e73",
   "metadata": {},
   "source": [
    "# Model selection"
   ]
  },
  {
   "cell_type": "code",
   "execution_count": 6,
   "id": "f488896d",
   "metadata": {},
   "outputs": [],
   "source": [
    "scaler = StandardScaler()\n",
    "s = scaler.fit(X_train)\n",
    "X_train=scaler.transform(X_train)\n",
    "X_val = scaler.transform(X_val)\n",
    "X_test = scaler.transform(X_test)"
   ]
  },
  {
   "cell_type": "code",
   "execution_count": 7,
   "id": "4f0188e0",
   "metadata": {},
   "outputs": [],
   "source": [
    "def print_metrics(y_val,y_pred,f,classifier):\n",
    "    f.write(f'{classifier} Precision: {precision_score(y_val,y_pred)}\\n')\n",
    "    f.write(f'{classifier} Recall: {recall_score(y_val,y_pred)}\\n')\n",
    "    f.write(f'{classifier} f1_score: {f1_score(y_val,y_pred)}\\n')\n",
    "    f.write(f'{classifier} Accuracy: {accuracy_score(y_val,y_pred)}\\n')\n",
    "    f.write('---------------------------------------------------------------------------\\n')\n",
    "    '''\n",
    "    print(f'{classifier} Precision: {precision_score(y_val,y_pred)}')\n",
    "    print(f'{classifier} Recall: {recall_score(y_val,y_pred)}')\n",
    "    print(f'{classifier} f1_score: {f1_score(y_val,y_pred)}')\n",
    "    print(f'{classifier} Accuracy: {accuracy_score(y_val,y_pred)}')\n",
    "    '''"
   ]
  },
  {
   "cell_type": "markdown",
   "id": "f95a30b0",
   "metadata": {},
   "source": [
    "# Logistic Regression"
   ]
  },
  {
   "cell_type": "code",
   "execution_count": 8,
   "id": "a9104eb2",
   "metadata": {},
   "outputs": [],
   "source": [
    "params = {'penalty' : ['l1', 'l2', 'none','elasticnet'], \n",
    "          'C' : [0.01, 0.1, 1, 10, 100, 1000] }\n",
    "\n",
    "log_reg_models = []\n",
    "for p in params['penalty']:\n",
    "    for c in params['C']:\n",
    "        l1_ratio = 0.1 if p == 'elasticnet' else None\n",
    "        clf = LogisticRegression(penalty=p,C=c,random_state=0,max_iter=5000,solver='saga',l1_ratio=l1_ratio).fit(X_train, y_train) \n",
    "       \n",
    "        y_pred_train = clf.predict(X_train)\n",
    "        y_pred_val = clf.predict(X_val)\n",
    "        \n",
    "        f1_train = f1_score(y_train,y_pred_train)\n",
    "        f1_val = f1_score(y_val,y_pred_val)\n",
    "        \n",
    "        log_reg_models.append((clf,f1_val,abs(f1_val-f1_train)))"
   ]
  },
  {
   "cell_type": "code",
   "execution_count": 9,
   "id": "f9d5e31a",
   "metadata": {},
   "outputs": [
    {
     "name": "stdout",
     "output_type": "stream",
     "text": [
      "0.6571428571428571 0.09506953223767389 6\n",
      "0.6582278481012658 0.15547664868674282 10\n",
      "0.6944444444444444 0.047277409860191355 18\n",
      "LogisticRegression(C=0.01, l1_ratio=0.1, max_iter=5000, penalty='elasticnet',\n",
      "                   random_state=0, solver='saga')\n"
     ]
    }
   ],
   "source": [
    "for i in range(len(log_reg_models)):\n",
    "    if log_reg_models[i][1] > 0.65:\n",
    "        print(log_reg_models[i][1],log_reg_models[i][2],i)\n",
    "        \n",
    "model_selected = log_reg_models[18][0]\n",
    "print(model_selected)"
   ]
  },
  {
   "cell_type": "code",
   "execution_count": null,
   "id": "359702af",
   "metadata": {},
   "outputs": [],
   "source": [
    "y_pred_test = model_selected.predict(X_test)\n",
    "\n",
    "print('Test set metrics:')\n",
    "print(f'Precision: {precision_score(y_test,y_pred_test)}')\n",
    "print(f'Recall: {recall_score(y_test,y_pred_test)}')\n",
    "print(f'f1_score: {f1_score(y_test,y_pred_test)}')\n",
    "print(f'Accuracy: {accuracy_score(y_test,y_pred_test)}\\n')\n",
    "print(f'Confusion matrix:')\n",
    "\n",
    "cm = confusion_matrix(y_test,y_pred_test)\n",
    "cm_display = ConfusionMatrixDisplay(confusion_matrix = cm, display_labels = [False, True])\n",
    "\n",
    "cm_display.plot()\n",
    "plt.show()\n",
    "\n",
    "print_metrics(y_test,y_pred_test,f,\"Logistic Regression\")"
   ]
  },
  {
   "cell_type": "markdown",
   "id": "36c1ff91",
   "metadata": {},
   "source": [
    "# SVM"
   ]
  },
  {
   "cell_type": "code",
   "execution_count": 20,
   "id": "bcff7685",
   "metadata": {},
   "outputs": [],
   "source": [
    "params = {'C' : [0.01, 0.1, 1, 10, 100, 1000],\n",
    "         'kernel' : ['linear', 'poly', 'rbf', 'sigmoid'],\n",
    "         'gamma' : ['scale','auto'] }\n",
    "\n",
    "svm_models = []\n",
    "for c in params['C']:\n",
    "    for k in params['kernel']:\n",
    "        for g in params['gamma']:\n",
    "        \n",
    "            clf = svm.SVC(C=c,kernel=k,gamma=g,probability=True).fit(X_train, y_train) \n",
    "       \n",
    "            y_pred_train = clf.predict(X_train)\n",
    "            y_pred_val = clf.predict(X_val)\n",
    "\n",
    "            f1_train = f1_score(y_train,y_pred_train)\n",
    "            f1_val = f1_score(y_val,y_pred_val)\n",
    "\n",
    "            svm_models.append((clf,f1_val,abs(f1_val-f1_train)))"
   ]
  },
  {
   "cell_type": "code",
   "execution_count": 21,
   "id": "eba9945a",
   "metadata": {},
   "outputs": [
    {
     "name": "stdout",
     "output_type": "stream",
     "text": [
      "0.704225352112676 0.02317019623737626 14\n",
      "0.704225352112676 0.02317019623737626 15\n",
      "0.6567164179104478 0.26897360332097464 20\n",
      "0.6567164179104478 0.26897360332097464 21\n",
      "0.6585365853658536 0.016960103375868285 22\n",
      "0.6585365853658536 0.016960103375868285 23\n",
      "SVC(C=0.1, kernel='sigmoid', probability=True)\n"
     ]
    }
   ],
   "source": [
    "for i in range(len(svm_models)):\n",
    "    if svm_models[i][1] > 0.65:\n",
    "        print(svm_models[i][1],svm_models[i][2],i)\n",
    "        \n",
    "model_selected = svm_models[14][0]\n",
    "print(model_selected)"
   ]
  },
  {
   "cell_type": "code",
   "execution_count": 22,
   "id": "7c244a5d",
   "metadata": {},
   "outputs": [
    {
     "data": {
      "text/plain": [
       "array([[0.67897708, 0.32102292],\n",
       "       [0.78371479, 0.21628521],\n",
       "       [0.83982129, 0.16017871],\n",
       "       [0.76514022, 0.23485978],\n",
       "       [0.96720881, 0.03279119],\n",
       "       [0.83781467, 0.16218533],\n",
       "       [0.67820231, 0.32179769],\n",
       "       [0.6050848 , 0.3949152 ],\n",
       "       [0.74194038, 0.25805962],\n",
       "       [0.64740213, 0.35259787],\n",
       "       [0.87245846, 0.12754154],\n",
       "       [0.78311559, 0.21688441],\n",
       "       [0.86001023, 0.13998977],\n",
       "       [0.72145382, 0.27854618],\n",
       "       [0.83008005, 0.16991995],\n",
       "       [0.58610901, 0.41389099],\n",
       "       [0.72630506, 0.27369494],\n",
       "       [0.77434213, 0.22565787],\n",
       "       [0.73200215, 0.26799785],\n",
       "       [0.90611298, 0.09388702],\n",
       "       [0.25999421, 0.74000579],\n",
       "       [0.5652697 , 0.4347303 ],\n",
       "       [0.85630251, 0.14369749],\n",
       "       [0.41135533, 0.58864467],\n",
       "       [0.94003148, 0.05996852],\n",
       "       [0.72468026, 0.27531974],\n",
       "       [0.9179039 , 0.0820961 ],\n",
       "       [0.91273826, 0.08726174],\n",
       "       [0.34407194, 0.65592806],\n",
       "       [0.67263635, 0.32736365],\n",
       "       [0.98423111, 0.01576889],\n",
       "       [0.73061546, 0.26938454],\n",
       "       [0.640163  , 0.359837  ],\n",
       "       [0.83261517, 0.16738483],\n",
       "       [0.5       , 0.5       ],\n",
       "       [0.65823344, 0.34176656],\n",
       "       [0.68878148, 0.31121852],\n",
       "       [0.96837474, 0.03162526],\n",
       "       [0.31488597, 0.68511403],\n",
       "       [0.05342202, 0.94657798],\n",
       "       [0.56018457, 0.43981543],\n",
       "       [0.83428356, 0.16571644],\n",
       "       [0.85585343, 0.14414657],\n",
       "       [0.81589793, 0.18410207],\n",
       "       [0.8825995 , 0.1174005 ],\n",
       "       [0.83966311, 0.16033689],\n",
       "       [0.77529699, 0.22470301],\n",
       "       [0.83242953, 0.16757047],\n",
       "       [0.88256413, 0.11743587],\n",
       "       [0.52452994, 0.47547006],\n",
       "       [0.81280713, 0.18719287],\n",
       "       [0.35056854, 0.64943146],\n",
       "       [0.88720734, 0.11279266],\n",
       "       [0.44079499, 0.55920501],\n",
       "       [0.9254297 , 0.0745703 ],\n",
       "       [0.90017768, 0.09982232],\n",
       "       [0.22944055, 0.77055945],\n",
       "       [0.57039381, 0.42960619],\n",
       "       [0.8018768 , 0.1981232 ],\n",
       "       [0.48005064, 0.51994936],\n",
       "       [0.55013612, 0.44986388],\n",
       "       [0.63352178, 0.36647822],\n",
       "       [0.56199551, 0.43800449],\n",
       "       [0.54447195, 0.45552805],\n",
       "       [0.52470641, 0.47529359],\n",
       "       [0.35260015, 0.64739985],\n",
       "       [0.70173871, 0.29826129],\n",
       "       [0.88502731, 0.11497269],\n",
       "       [0.97699618, 0.02300382],\n",
       "       [0.85838865, 0.14161135],\n",
       "       [0.78246295, 0.21753705],\n",
       "       [0.71032179, 0.28967821],\n",
       "       [0.56907852, 0.43092148],\n",
       "       [0.7847656 , 0.2152344 ],\n",
       "       [0.54374161, 0.45625839],\n",
       "       [0.81616074, 0.18383926],\n",
       "       [0.53488813, 0.46511187],\n",
       "       [0.85300218, 0.14699782],\n",
       "       [0.93130102, 0.06869898],\n",
       "       [0.93051957, 0.06948043],\n",
       "       [0.18245146, 0.81754854],\n",
       "       [0.50733745, 0.49266255],\n",
       "       [0.97323289, 0.02676711],\n",
       "       [0.83631125, 0.16368875],\n",
       "       [0.89798176, 0.10201824],\n",
       "       [0.52783542, 0.47216458],\n",
       "       [0.5944577 , 0.4055423 ],\n",
       "       [0.54185076, 0.45814924],\n",
       "       [0.81272329, 0.18727671],\n",
       "       [0.5495646 , 0.4504354 ],\n",
       "       [0.84324367, 0.15675633],\n",
       "       [0.8997958 , 0.1002042 ],\n",
       "       [0.16810383, 0.83189617],\n",
       "       [0.65587543, 0.34412457],\n",
       "       [0.84967913, 0.15032087],\n",
       "       [0.87215739, 0.12784261],\n",
       "       [0.83775928, 0.16224072],\n",
       "       [0.28165771, 0.71834229],\n",
       "       [0.39845723, 0.60154277],\n",
       "       [0.31696051, 0.68303949],\n",
       "       [0.44348374, 0.55651626],\n",
       "       [0.5       , 0.5       ],\n",
       "       [0.38368022, 0.61631978],\n",
       "       [0.25106919, 0.74893081],\n",
       "       [0.32738945, 0.67261055],\n",
       "       [0.28623306, 0.71376694],\n",
       "       [0.34657726, 0.65342274],\n",
       "       [0.60935196, 0.39064804],\n",
       "       [0.46218403, 0.53781597],\n",
       "       [0.0497998 , 0.9502002 ],\n",
       "       [0.07090098, 0.92909902],\n",
       "       [0.12484545, 0.87515455],\n",
       "       [0.15114563, 0.84885437],\n",
       "       [0.27050752, 0.72949248],\n",
       "       [0.19810131, 0.80189869],\n",
       "       [0.22198162, 0.77801838],\n",
       "       [0.12931926, 0.87068074],\n",
       "       [0.24507223, 0.75492777],\n",
       "       [0.12194066, 0.87805934],\n",
       "       [0.21378483, 0.78621517],\n",
       "       [0.24845724, 0.75154276],\n",
       "       [0.44225967, 0.55774033],\n",
       "       [0.37299375, 0.62700625],\n",
       "       [0.32392409, 0.67607591]])"
      ]
     },
     "execution_count": 22,
     "metadata": {},
     "output_type": "execute_result"
    }
   ],
   "source": [
    "model_selected.predict_proba(X_test)"
   ]
  },
  {
   "cell_type": "code",
   "execution_count": 28,
   "id": "295ee939",
   "metadata": {},
   "outputs": [
    {
     "name": "stdout",
     "output_type": "stream",
     "text": [
      "Present Murmur AUC score: 0.8863475177304965\n"
     ]
    },
    {
     "data": {
      "image/png": "[encoded data removed]",
      "text/plain": [
       "<Figure size 640x480 with 1 Axes>"
      ]
     },
     "metadata": {},
     "output_type": "display_data"
    }
   ],
   "source": [
    "def plot_roc_curve(true_y, y_prob):\n",
    "    fpr, tpr, thresholds = roc_curve(true_y, y_prob)\n",
    "    plt.plot(fpr, tpr)\n",
    "    plt.xlabel('False Positive Rate')\n",
    "    plt.ylabel('True Positive Rate')\n",
    "\n",
    "y_proba = model_selected.predict_proba(X_test)[:,1]\n",
    "plot_roc_curve(y_test,y_proba)\n",
    "print(f'Present Murmur AUC score: {roc_auc_score(y_test, y_proba)}')"
   ]
  },
  {
   "cell_type": "code",
   "execution_count": 13,
   "id": "08259f43",
   "metadata": {},
   "outputs": [
    {
     "name": "stdout",
     "output_type": "stream",
     "text": [
      "Test set metrics:\n",
      "Precision: 0.6875\n",
      "Recall: 0.7333333333333333\n",
      "f1_score: 0.7096774193548386\n",
      "Accuracy: 0.8548387096774194\n",
      "\n",
      "Confusion matrix:\n"
     ]
    },
    {
     "data": {
      "image/png": "[encoded data removed]",
      "text/plain": [
       "<Figure size 640x480 with 2 Axes>"
      ]
     },
     "metadata": {},
     "output_type": "display_data"
    }
   ],
   "source": [
    "y_pred_test = model_selected.predict(X_test)\n",
    "\n",
    "print('Test set metrics:')\n",
    "print(f'Precision: {precision_score(y_test,y_pred_test)}')\n",
    "print(f'Recall: {recall_score(y_test,y_pred_test)}')\n",
    "print(f'f1_score: {f1_score(y_test,y_pred_test)}')\n",
    "print(f'Accuracy: {accuracy_score(y_test,y_pred_test)}\\n')\n",
    "print(f'Confusion matrix:')\n",
    "\n",
    "cm = confusion_matrix(y_test,y_pred_test)\n",
    "cm_display = ConfusionMatrixDisplay(confusion_matrix = cm, display_labels = [False, True])\n",
    "\n",
    "cm_display.plot()\n",
    "plt.show()\n",
    "\n",
    "print_metrics(y_test,y_pred_test,f,\"SVM\")"
   ]
  },
  {
   "cell_type": "markdown",
   "id": "9cdd1153",
   "metadata": {},
   "source": [
    "# Naive Bayes"
   ]
  },
  {
   "cell_type": "code",
   "execution_count": 12,
   "id": "62a9f712",
   "metadata": {},
   "outputs": [
    {
     "data": {
      "image/png": "[encoded data removed]",
      "text/plain": [
       "<Figure size 640x480 with 2 Axes>"
      ]
     },
     "metadata": {},
     "output_type": "display_data"
    }
   ],
   "source": [
    "new_X_train = np.append(X_train,X_val,axis=0)\n",
    "new_y_train = np.append(y_train,y_val,axis=0)\n",
    "\n",
    "clf2 = GaussianNB()\n",
    "clf2.fit(new_X_train, new_y_train)\n",
    "y_pred = clf2.predict(X_test)\n",
    "print_metrics(y_test,y_pred,f,\"Naive Bayes\")\n",
    "\n",
    "cm = confusion_matrix(y_test,y_pred)\n",
    "cm_display = ConfusionMatrixDisplay(confusion_matrix = cm, display_labels = [False, True])\n",
    "\n",
    "cm_display.plot()\n",
    "plt.show()"
   ]
  },
  {
   "cell_type": "markdown",
   "id": "fdb9e692",
   "metadata": {},
   "source": [
    "# KNN"
   ]
  },
  {
   "cell_type": "code",
   "execution_count": 15,
   "id": "5f901ebd",
   "metadata": {},
   "outputs": [
    {
     "data": {
      "image/png": "[encoded data removed]",
      "text/plain": [
       "<Figure size 640x480 with 2 Axes>"
      ]
     },
     "metadata": {},
     "output_type": "display_data"
    }
   ],
   "source": [
    "clf3 = KNeighborsClassifier(n_neighbors=5)\n",
    "clf3.fit(new_X_train, new_y_train)\n",
    "y_pred = clf3.predict(X_test)\n",
    "print_metrics(y_test,y_pred,f,\"KNN\")\n",
    "\n",
    "cm = confusion_matrix(y_test,y_pred)\n",
    "cm_display = ConfusionMatrixDisplay(confusion_matrix = cm, display_labels = [False, True])\n",
    "\n",
    "cm_display.plot()\n",
    "plt.show()"
   ]
  },
  {
   "cell_type": "markdown",
   "id": "751be154",
   "metadata": {},
   "source": [
    "# Decision Tree"
   ]
  },
  {
   "cell_type": "code",
   "execution_count": 16,
   "id": "75610584",
   "metadata": {
    "scrolled": true
   },
   "outputs": [],
   "source": [
    "params = {'criterion' : ['gini', 'entropy', 'log_loss'],\n",
    "         'splitter' : ['best', 'random'],\n",
    "         'max_depth' : [10,50,100,200,500],\n",
    "         'min_samples_split': [2,5,10,20,40],\n",
    "         'min_samples_leaf': [1,5,10,20,50]}\n",
    "\n",
    "tree_models = []\n",
    "for c in params['criterion']:\n",
    "    for s in params['splitter']:\n",
    "        for md in params['max_depth']:\n",
    "            for mss in params['min_samples_split']:\n",
    "                for msl in params['min_samples_leaf']:\n",
    "                    \n",
    "                    clf = tree.DecisionTreeClassifier(criterion=c,splitter=s,max_depth=md,min_samples_split=mss,min_samples_leaf=msl).fit(X_train, y_train) \n",
    "\n",
    "                    y_pred_train = clf.predict(X_train)\n",
    "                    y_pred_val = clf.predict(X_val)\n",
    "\n",
    "                    f1_train = f1_score(y_train,y_pred_train)\n",
    "                    f1_val = f1_score(y_val,y_pred_val)\n",
    "\n",
    "                    tree_models.append((clf,f1_val,abs(f1_val-f1_train)))\n"
   ]
  },
  {
   "cell_type": "code",
   "execution_count": 17,
   "id": "ec2d84bf",
   "metadata": {},
   "outputs": [
    {
     "name": "stdout",
     "output_type": "stream",
     "text": [
      "0.6190476190476191 0.11384421318196158 188\n",
      "0.6153846153846153 0.13730355665839555 195\n",
      "0.6 0.2747433264887065 401\n",
      "0.625 0.2483624454148471 406\n",
      "0.6373626373626373 0.13710544774374578 407\n",
      "0.617283950617284 0.15414462081128744 446\n",
      "0.6046511627906975 0.11274014155712853 488\n",
      "0.6 0.1405940594059406 688\n",
      "0.6067415730337079 0.12287216087187158 698\n",
      "0.6136363636363636 0.05303030303030298 718\n",
      "0.6021505376344086 0.17327319117915074 737\n",
      "0.6451612903225806 0.04799544256925159 748\n",
      "DecisionTreeClassifier(criterion='entropy', max_depth=200, min_samples_leaf=20,\n",
      "                       min_samples_split=5, splitter='random')\n"
     ]
    }
   ],
   "source": [
    "for i in range(len(tree_models)):\n",
    "    if tree_models[i][1] >= 0.6:\n",
    "        print(tree_models[i][1],tree_models[i][2],i)\n",
    "        \n",
    "model_selected = tree_models[458][0]\n",
    "print(model_selected)"
   ]
  },
  {
   "cell_type": "code",
   "execution_count": 18,
   "id": "606b00f9",
   "metadata": {},
   "outputs": [
    {
     "name": "stdout",
     "output_type": "stream",
     "text": [
      "Test set metrics:\n",
      "Precision: 0.3968253968253968\n",
      "Recall: 0.8333333333333334\n",
      "f1_score: 0.5376344086021505\n",
      "Accuracy: 0.6532258064516129\n",
      "\n",
      "Confusion matrix:\n"
     ]
    },
    {
     "data": {
      "image/png": "[encoded data removed]",
      "text/plain": [
       "<Figure size 640x480 with 2 Axes>"
      ]
     },
     "metadata": {},
     "output_type": "display_data"
    }
   ],
   "source": [
    "y_pred_test = model_selected.predict(X_test)\n",
    "\n",
    "print('Test set metrics:')\n",
    "print(f'Precision: {precision_score(y_test,y_pred_test)}')\n",
    "print(f'Recall: {recall_score(y_test,y_pred_test)}')\n",
    "print(f'f1_score: {f1_score(y_test,y_pred_test)}')\n",
    "print(f'Accuracy: {accuracy_score(y_test,y_pred_test)}\\n')\n",
    "print(f'Confusion matrix:')\n",
    "\n",
    "cm = confusion_matrix(y_test,y_pred_test)\n",
    "cm_display = ConfusionMatrixDisplay(confusion_matrix = cm, display_labels = [False, True])\n",
    "\n",
    "cm_display.plot()\n",
    "plt.show()\n",
    "\n",
    "print_metrics(y_test,y_pred_test,f,\"Decision Tree\")"
   ]
  },
  {
   "cell_type": "markdown",
   "id": "d457b0c6",
   "metadata": {},
   "source": [
    "# LDA"
   ]
  },
  {
   "cell_type": "code",
   "execution_count": 19,
   "id": "74f247ae",
   "metadata": {},
   "outputs": [
    {
     "data": {
      "image/png": "[encoded data removed]",
      "text/plain": [
       "<Figure size 640x480 with 2 Axes>"
      ]
     },
     "metadata": {},
     "output_type": "display_data"
    }
   ],
   "source": [
    "clf5 = LinearDiscriminantAnalysis()\n",
    "clf5.fit(new_X_train, new_y_train)\n",
    "y_pred = clf5.predict(X_test)\n",
    "print_metrics(y_test,y_pred,f,\"LDA\")\n",
    "\n",
    "cm = confusion_matrix(y_test,y_pred)\n",
    "cm_display = ConfusionMatrixDisplay(confusion_matrix = cm, display_labels = [False, True])\n",
    "\n",
    "cm_display.plot()\n",
    "plt.show()"
   ]
  },
  {
   "cell_type": "markdown",
   "id": "1a21c234",
   "metadata": {},
   "source": [
    "# QDA"
   ]
  },
  {
   "cell_type": "code",
   "execution_count": 20,
   "id": "a48b7493",
   "metadata": {},
   "outputs": [
    {
     "data": {
      "image/png": "[encoded data removed]",
      "text/plain": [
       "<Figure size 640x480 with 2 Axes>"
      ]
     },
     "metadata": {},
     "output_type": "display_data"
    }
   ],
   "source": [
    "clf6 = QuadraticDiscriminantAnalysis()\n",
    "clf6.fit(new_X_train, new_y_train)\n",
    "y_pred = clf6.predict(X_test)\n",
    "print_metrics(y_test,y_pred,f,\"QDA\")\n",
    "\n",
    "cm = confusion_matrix(y_test,y_pred)\n",
    "cm_display = ConfusionMatrixDisplay(confusion_matrix = cm, display_labels = [False, True])\n",
    "\n",
    "cm_display.plot()\n",
    "plt.show()"
   ]
  },
  {
   "cell_type": "markdown",
   "id": "41b55a11",
   "metadata": {},
   "source": [
    "# ADABOOST"
   ]
  },
  {
   "cell_type": "code",
   "execution_count": 21,
   "id": "5670e5a7",
   "metadata": {},
   "outputs": [],
   "source": [
    "params = {'n_estimators' : [10, 50, 100],\n",
    "         'learning_rate' : [0.1, 0.5, 0.8, 1.0],\n",
    "         'algorithm' : ['SAMME','SAMME.R'] }\n",
    "\n",
    "ada_models = []\n",
    "for est in params['n_estimators']:\n",
    "    for lr in params['learning_rate']:\n",
    "        for a in params['algorithm']:\n",
    "        \n",
    "            clf = AdaBoostClassifier(n_estimators=est, random_state=0, learning_rate=lr, algorithm=a).fit(X_train, y_train)\n",
    "       \n",
    "            y_pred_train = clf.predict(X_train)\n",
    "            y_pred_val = clf.predict(X_val)\n",
    "\n",
    "            f1_train = f1_score(y_train,y_pred_train)\n",
    "            f1_val = f1_score(y_val,y_pred_val)\n",
    "\n",
    "            ada_models.append((clf,f1_val,abs(f1_val-f1_train)))\n"
   ]
  },
  {
   "cell_type": "code",
   "execution_count": 22,
   "id": "889b7ae4",
   "metadata": {},
   "outputs": [
    {
     "name": "stdout",
     "output_type": "stream",
     "text": [
      "0.6233766233766234 0.23884559884559886 14\n",
      "0.6216216216216217 0.3083146841108624 15\n",
      "0.6075949367088608 0.25140723248853625 18\n",
      "0.6493506493506495 0.3080961591599889 19\n",
      "0.6486486486486487 0.2500855285665413 20\n",
      "0.6153846153846153 0.36987854251012153 21\n",
      "0.6842105263157895 0.23459289248762927 22\n",
      "0.6578947368421053 0.34000882709919455 23\n",
      "AdaBoostClassifier(algorithm='SAMME', n_estimators=100, random_state=0)\n"
     ]
    }
   ],
   "source": [
    "for i in range(len(ada_models)):\n",
    "    if ada_models[i][1] > 0.6:\n",
    "        print(ada_models[i][1],ada_models[i][2],i)\n",
    "        \n",
    "model_selected = ada_models[22][0]\n",
    "print(model_selected)"
   ]
  },
  {
   "cell_type": "code",
   "execution_count": 23,
   "id": "b29a1dc9",
   "metadata": {},
   "outputs": [
    {
     "name": "stdout",
     "output_type": "stream",
     "text": [
      "Test set metrics:\n",
      "Precision: 0.5106382978723404\n",
      "Recall: 0.8\n",
      "f1_score: 0.6233766233766233\n",
      "Accuracy: 0.7661290322580645\n",
      "\n",
      "Confusion matrix:\n"
     ]
    },
    {
     "data": {
      "image/png": "[encoded data removed]",
      "text/plain": [
       "<Figure size 640x480 with 2 Axes>"
      ]
     },
     "metadata": {},
     "output_type": "display_data"
    }
   ],
   "source": [
    "y_pred_test = model_selected.predict(X_test)\n",
    "\n",
    "print('Test set metrics:')\n",
    "print(f'Precision: {precision_score(y_test,y_pred_test)}')\n",
    "print(f'Recall: {recall_score(y_test,y_pred_test)}')\n",
    "print(f'f1_score: {f1_score(y_test,y_pred_test)}')\n",
    "print(f'Accuracy: {accuracy_score(y_test,y_pred_test)}\\n')\n",
    "print(f'Confusion matrix:')\n",
    "\n",
    "cm = confusion_matrix(y_test,y_pred_test)\n",
    "cm_display = ConfusionMatrixDisplay(confusion_matrix = cm, display_labels = [False, True])\n",
    "\n",
    "cm_display.plot()\n",
    "plt.show()\n",
    "\n",
    "print_metrics(y_test,y_pred_test,f,\"ADABOOST\")"
   ]
  },
  {
   "cell_type": "code",
   "execution_count": 24,
   "id": "0cfbaa70",
   "metadata": {},
   "outputs": [],
   "source": [
    "f.close()"
   ]
  },
  {
   "cell_type": "code",
   "execution_count": 16,
   "id": "3cf6ab82",
   "metadata": {},
   "outputs": [
    {
     "name": "stdout",
     "output_type": "stream",
     "text": [
      "Precision: 0.22641509433962265\n",
      "Recall: 0.4\n",
      "f1_score: 0.2891566265060241\n",
      "Accuracy: 0.5241935483870968\n"
     ]
    },
    {
     "data": {
      "image/png": "[encoded data removed]",
      "text/plain": [
       "<Figure size 640x480 with 2 Axes>"
      ]
     },
     "metadata": {},
     "output_type": "display_data"
    }
   ],
   "source": [
    "from sklearn.dummy import DummyClassifier\n",
    "\n",
    "clf_dummy = DummyClassifier(strategy='stratified').fit(X_train, y_train)\n",
    "y_pred = clf_dummy.predict(X_test)\n",
    "\n",
    "print(f'Precision: {precision_score(y_test,y_pred)}')\n",
    "print(f'Recall: {recall_score(y_test,y_pred)}')\n",
    "print(f'f1_score: {f1_score(y_test,y_pred)}')\n",
    "print(f'Accuracy: {accuracy_score(y_test,y_pred)}')\n",
    "\n",
    "cm = confusion_matrix(y_test,y_pred)\n",
    "cm_display = ConfusionMatrixDisplay(confusion_matrix = cm)\n",
    "\n",
    "cm_display.plot()\n",
    "plt.show()"
   ]
  }
 ],
 "metadata": {
  "kernelspec": {
   "display_name": "Python 3 (ipykernel)",
   "language": "python",
   "name": "python3"
  },
  "language_info": {
   "codemirror_mode": {
    "name": "ipython",
    "version": 3
   },
   "file_extension": ".py",
   "mimetype": "text/x-python",
   "name": "python",
   "nbconvert_exporter": "python",
   "pygments_lexer": "ipython3",
   "version": "3.9.16"
  }
 },
 "nbformat": 4,
 "nbformat_minor": 5
}
