{
 "cells": [
  {
   "cell_type": "code",
   "execution_count": 1,
   "id": "17f644ee",
   "metadata": {},
   "outputs": [],
   "source": [
    "import pandas as pd\n",
    "import numpy as np\n",
    "import warnings\n",
    "warnings.filterwarnings('ignore')\n",
    "from sklearn.linear_model import LogisticRegression\n",
    "from sklearn.metrics import precision_score,recall_score,f1_score,accuracy_score\n",
    "from sklearn.discriminant_analysis import LinearDiscriminantAnalysis, QuadraticDiscriminantAnalysis\n",
    "from sklearn.neighbors import KNeighborsClassifier\n",
    "from sklearn.preprocessing import StandardScaler\n",
    "from sklearn.naive_bayes import GaussianNB\n",
    "from sklearn import tree\n",
    "from sklearn import svm"
   ]
  },
  {
   "cell_type": "code",
   "execution_count": 2,
   "id": "fee6a2ef",
   "metadata": {},
   "outputs": [],
   "source": [
    "X_train = pd.read_csv('X_train.csv') \n",
    "X_val = pd.read_csv('X_val.csv') \n",
    "X_test = pd.read_csv('X_test.csv')\n",
    "\n",
    "y_train = pd.read_csv('y_train.csv') \n",
    "y_val = pd.read_csv('y_val.csv')\n",
    "y_test = pd.read_csv('y_test.csv')"
   ]
  },
  {
   "cell_type": "code",
   "execution_count": 6,
   "id": "cc03a851",
   "metadata": {},
   "outputs": [],
   "source": [
    "results_file = 'feature_selection_logistic_lasso_results.txt'\n",
    "selected_features_list = 'logistic_regression_lasso.txt'\n",
    "f = open(results_file, \"w\")"
   ]
  },
  {
   "cell_type": "markdown",
   "id": "66d6633f",
   "metadata": {},
   "source": [
    "# Get selected features"
   ]
  },
  {
   "cell_type": "markdown",
   "id": "7324a006",
   "metadata": {},
   "source": [
    "Folder 'important_features' includes .txt files which contain the features that each feature selection method selected"
   ]
  },
  {
   "cell_type": "code",
   "execution_count": 12,
   "id": "97dc837e",
   "metadata": {},
   "outputs": [],
   "source": [
    "selected_feats=[]\n",
    "with open(r'important_features/'+selected_features_list, 'r') as fp:\n",
    "    for line in fp:\n",
    "        x = line[:-1]\n",
    "        selected_feats.append(x)\n",
    "\n",
    "X_train = X_train[selected_feats]\n",
    "X_val = X_val[selected_feats]\n",
    "X_test = X_test[selected_feats]"
   ]
  },
  {
   "cell_type": "code",
   "execution_count": 13,
   "id": "ea0ad24d",
   "metadata": {
    "scrolled": true
   },
   "outputs": [
    {
     "data": {
      "text/plain": [
       "95"
      ]
     },
     "execution_count": 13,
     "metadata": {},
     "output_type": "execute_result"
    }
   ],
   "source": [
    "len(selected_feats)"
   ]
  },
  {
   "cell_type": "markdown",
   "id": "874d8e73",
   "metadata": {},
   "source": [
    "# Testing against validation set only"
   ]
  },
  {
   "cell_type": "code",
   "execution_count": 8,
   "id": "f488896d",
   "metadata": {},
   "outputs": [],
   "source": [
    "scaler = StandardScaler()\n",
    "s = scaler.fit(X_train)\n",
    "X_train=scaler.transform(X_train)\n",
    "X_val = scaler.transform(X_val)"
   ]
  },
  {
   "cell_type": "code",
   "execution_count": 9,
   "id": "4f0188e0",
   "metadata": {},
   "outputs": [],
   "source": [
    "def print_metrics(y_val,y_pred,f,classifier):\n",
    "    f.write(f'{classifier} Precision: {precision_score(y_val,y_pred)}\\n')\n",
    "    f.write(f'{classifier} Recall: {recall_score(y_val,y_pred)}\\n')\n",
    "    f.write(f'{classifier} f1_score: {f1_score(y_val,y_pred)}\\n')\n",
    "    f.write(f'{classifier} Accuracy: {accuracy_score(y_val,y_pred)}\\n')\n",
    "    f.write('---------------------------------------------------------------------------\\n')"
   ]
  },
  {
   "cell_type": "markdown",
   "id": "f95a30b0",
   "metadata": {},
   "source": [
    "# Logistic Regression Test"
   ]
  },
  {
   "cell_type": "code",
   "execution_count": 12,
   "id": "4a573ff4",
   "metadata": {},
   "outputs": [],
   "source": [
    "clf = LogisticRegression(random_state=0,max_iter=1000).fit(X_train, y_train) \n",
    "y_pred = clf.predict(X_val)\n",
    "print_metrics(y_val,y_pred,f,\"logistic regression\")"
   ]
  },
  {
   "cell_type": "markdown",
   "id": "36c1ff91",
   "metadata": {},
   "source": [
    "# SVM test"
   ]
  },
  {
   "cell_type": "code",
   "execution_count": 13,
   "id": "81d03764",
   "metadata": {},
   "outputs": [],
   "source": [
    "clf1 = svm.SVC()\n",
    "clf1.fit(X_train, y_train)\n",
    "y_pred = clf1.predict(X_val)\n",
    "print_metrics(y_val,y_pred,f,\"SVM\")"
   ]
  },
  {
   "cell_type": "markdown",
   "id": "9cdd1153",
   "metadata": {},
   "source": [
    "# Naive Bayes"
   ]
  },
  {
   "cell_type": "code",
   "execution_count": 14,
   "id": "62a9f712",
   "metadata": {},
   "outputs": [],
   "source": [
    "clf2 = GaussianNB()\n",
    "clf2.fit(X_train, y_train)\n",
    "y_pred = clf2.predict(X_val)\n",
    "print_metrics(y_val,y_pred,f,\"Naive Bayes\")"
   ]
  },
  {
   "cell_type": "markdown",
   "id": "fdb9e692",
   "metadata": {},
   "source": [
    "# KNN"
   ]
  },
  {
   "cell_type": "code",
   "execution_count": 15,
   "id": "5f901ebd",
   "metadata": {},
   "outputs": [],
   "source": [
    "clf3 = KNeighborsClassifier(n_neighbors=3)\n",
    "clf3.fit(X_train, y_train)\n",
    "y_pred = clf3.predict(X_val)\n",
    "print_metrics(y_val,y_pred,f,\"KNN\")"
   ]
  },
  {
   "cell_type": "markdown",
   "id": "751be154",
   "metadata": {},
   "source": [
    "# Decision Tree"
   ]
  },
  {
   "cell_type": "code",
   "execution_count": 16,
   "id": "7a280bc7",
   "metadata": {},
   "outputs": [],
   "source": [
    "clf4 = tree.DecisionTreeClassifier()\n",
    "clf4.fit(X_train, y_train)\n",
    "y_pred = clf4.predict(X_val)\n",
    "print_metrics(y_val,y_pred,f,\"Decision Tree\")"
   ]
  },
  {
   "cell_type": "markdown",
   "id": "d457b0c6",
   "metadata": {},
   "source": [
    "# LDA"
   ]
  },
  {
   "cell_type": "code",
   "execution_count": 17,
   "id": "74f247ae",
   "metadata": {},
   "outputs": [],
   "source": [
    "clf5 = LinearDiscriminantAnalysis()\n",
    "clf5.fit(X_train, y_train)\n",
    "y_pred = clf5.predict(X_val)\n",
    "print_metrics(y_val,y_pred,f,\"LDA\")"
   ]
  },
  {
   "cell_type": "markdown",
   "id": "1a21c234",
   "metadata": {},
   "source": [
    "# QDA"
   ]
  },
  {
   "cell_type": "code",
   "execution_count": 18,
   "id": "a48b7493",
   "metadata": {},
   "outputs": [],
   "source": [
    "clf6 = QuadraticDiscriminantAnalysis()\n",
    "clf6.fit(X_train, y_train)\n",
    "y_pred = clf6.predict(X_val)\n",
    "print_metrics(y_val,y_pred,f,\"QDA\")"
   ]
  },
  {
   "cell_type": "markdown",
   "id": "41b55a11",
   "metadata": {},
   "source": [
    "# ADABOOST"
   ]
  },
  {
   "cell_type": "code",
   "execution_count": 19,
   "id": "a1b59287",
   "metadata": {},
   "outputs": [],
   "source": [
    "from sklearn.ensemble import AdaBoostClassifier\n",
    "\n",
    "clf7 = AdaBoostClassifier(n_estimators=100, random_state=0)\n",
    "clf7.fit(X_train, y_train)\n",
    "y_pred = clf7.predict(X_val)\n",
    "print_metrics(y_val,y_pred,f,\"ADABOOST\")"
   ]
  },
  {
   "cell_type": "code",
   "execution_count": 20,
   "id": "0cfbaa70",
   "metadata": {},
   "outputs": [],
   "source": [
    "f.close()"
   ]
  },
  {
   "cell_type": "code",
   "execution_count": null,
   "id": "8ce17fc3",
   "metadata": {},
   "outputs": [],
   "source": []
  }
 ],
 "metadata": {
  "kernelspec": {
   "display_name": "Python 3 (ipykernel)",
   "language": "python",
   "name": "python3"
  },
  "language_info": {
   "codemirror_mode": {
    "name": "ipython",
    "version": 3
   },
   "file_extension": ".py",
   "mimetype": "text/x-python",
   "name": "python",
   "nbconvert_exporter": "python",
   "pygments_lexer": "ipython3",
   "version": "3.9.12"
  }
 },
 "nbformat": 4,
 "nbformat_minor": 5
}
