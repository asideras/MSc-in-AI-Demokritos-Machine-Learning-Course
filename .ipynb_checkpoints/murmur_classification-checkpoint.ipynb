{
 "cells": [
  {
   "cell_type": "code",
   "execution_count": 1,
   "id": "17f644ee",
   "metadata": {},
   "outputs": [],
   "source": [
    "import pandas as pd\n",
    "import numpy as np\n",
    "import warnings\n",
    "warnings.filterwarnings('ignore')\n",
    "from sklearn.model_selection import train_test_split\n",
    "from sklearn.linear_model import LogisticRegression\n",
    "from sklearn.metrics import precision_score,recall_score,f1_score,accuracy_score\n",
    "from sklearn.preprocessing import StandardScaler\n",
    "from sklearn import svm"
   ]
  },
  {
   "cell_type": "code",
   "execution_count": 11,
   "id": "eb8062f2",
   "metadata": {},
   "outputs": [
    {
     "data": {
      "text/html": [
       "<div>\n",
       "<style scoped>\n",
       "    .dataframe tbody tr th:only-of-type {\n",
       "        vertical-align: middle;\n",
       "    }\n",
       "\n",
       "    .dataframe tbody tr th {\n",
       "        vertical-align: top;\n",
       "    }\n",
       "\n",
       "    .dataframe thead th {\n",
       "        text-align: right;\n",
       "    }\n",
       "</style>\n",
       "<table border=\"1\" class=\"dataframe\">\n",
       "  <thead>\n",
       "    <tr style=\"text-align: right;\">\n",
       "      <th></th>\n",
       "      <th>Patient_ID</th>\n",
       "      <th>AV</th>\n",
       "      <th>MV</th>\n",
       "      <th>PV</th>\n",
       "      <th>TV</th>\n",
       "      <th>MURMUR</th>\n",
       "      <th>mean_ae_AV</th>\n",
       "      <th>mean_ae_MV</th>\n",
       "      <th>mean_ae_PV</th>\n",
       "      <th>mean_ae_TV</th>\n",
       "      <th>...</th>\n",
       "      <th>TV_mfcc_4</th>\n",
       "      <th>TV_mfcc_5</th>\n",
       "      <th>TV_mfcc_6</th>\n",
       "      <th>TV_mfcc_7</th>\n",
       "      <th>TV_mfcc_8</th>\n",
       "      <th>TV_mfcc_9</th>\n",
       "      <th>TV_mfcc_10</th>\n",
       "      <th>TV_mfcc_11</th>\n",
       "      <th>TV_mfcc_12</th>\n",
       "      <th>TV_mfcc_13</th>\n",
       "    </tr>\n",
       "  </thead>\n",
       "  <tbody>\n",
       "    <tr>\n",
       "      <th>0</th>\n",
       "      <td>2530</td>\n",
       "      <td>[-0.01133176 -0.00634612  0.00088419 ... -0.01...</td>\n",
       "      <td>[0.36723548 0.39998227 0.4128391  ... 0.013659...</td>\n",
       "      <td>[ 0.07548434  0.08113554  0.08231447 ... -0.05...</td>\n",
       "      <td>[ 0.06667692  0.07404709  0.07828741 ... -0.00...</td>\n",
       "      <td>Absent</td>\n",
       "      <td>0.093476</td>\n",
       "      <td>0.083762</td>\n",
       "      <td>0.164984</td>\n",
       "      <td>0.107563</td>\n",
       "      <td>...</td>\n",
       "      <td>-33.460999</td>\n",
       "      <td>-6.598893</td>\n",
       "      <td>34.000908</td>\n",
       "      <td>21.154074</td>\n",
       "      <td>-7.830566</td>\n",
       "      <td>-1.645628</td>\n",
       "      <td>21.914124</td>\n",
       "      <td>20.209284</td>\n",
       "      <td>-0.958162</td>\n",
       "      <td>-6.293470</td>\n",
       "    </tr>\n",
       "    <tr>\n",
       "      <th>1</th>\n",
       "      <td>9979</td>\n",
       "      <td>[ 0.04911021  0.06300914  0.07732098 ...  0.00...</td>\n",
       "      <td>[ 0.14847445  0.16823082  0.18181917 ... -0.13...</td>\n",
       "      <td>[0.94922936 1.0470796  1.0954523  ... 0.006394...</td>\n",
       "      <td>[ 0.01347676  0.01739587  0.01373965 ... -0.12...</td>\n",
       "      <td>Present</td>\n",
       "      <td>0.208012</td>\n",
       "      <td>0.207428</td>\n",
       "      <td>0.220741</td>\n",
       "      <td>0.521196</td>\n",
       "      <td>...</td>\n",
       "      <td>17.596321</td>\n",
       "      <td>19.525085</td>\n",
       "      <td>37.584980</td>\n",
       "      <td>30.011150</td>\n",
       "      <td>8.105771</td>\n",
       "      <td>1.824675</td>\n",
       "      <td>11.158860</td>\n",
       "      <td>14.041341</td>\n",
       "      <td>4.578975</td>\n",
       "      <td>-2.173921</td>\n",
       "    </tr>\n",
       "  </tbody>\n",
       "</table>\n",
       "<p>2 rows × 134 columns</p>\n",
       "</div>"
      ],
      "text/plain": [
       "   Patient_ID                                                 AV  \\\n",
       "0        2530  [-0.01133176 -0.00634612  0.00088419 ... -0.01...   \n",
       "1        9979  [ 0.04911021  0.06300914  0.07732098 ...  0.00...   \n",
       "\n",
       "                                                  MV  \\\n",
       "0  [0.36723548 0.39998227 0.4128391  ... 0.013659...   \n",
       "1  [ 0.14847445  0.16823082  0.18181917 ... -0.13...   \n",
       "\n",
       "                                                  PV  \\\n",
       "0  [ 0.07548434  0.08113554  0.08231447 ... -0.05...   \n",
       "1  [0.94922936 1.0470796  1.0954523  ... 0.006394...   \n",
       "\n",
       "                                                  TV   MURMUR  mean_ae_AV  \\\n",
       "0  [ 0.06667692  0.07404709  0.07828741 ... -0.00...   Absent    0.093476   \n",
       "1  [ 0.01347676  0.01739587  0.01373965 ... -0.12...  Present    0.208012   \n",
       "\n",
       "   mean_ae_MV  mean_ae_PV  mean_ae_TV  ...  TV_mfcc_4  TV_mfcc_5  TV_mfcc_6  \\\n",
       "0    0.083762    0.164984    0.107563  ... -33.460999  -6.598893  34.000908   \n",
       "1    0.207428    0.220741    0.521196  ...  17.596321  19.525085  37.584980   \n",
       "\n",
       "   TV_mfcc_7  TV_mfcc_8  TV_mfcc_9  TV_mfcc_10  TV_mfcc_11  TV_mfcc_12  \\\n",
       "0  21.154074  -7.830566  -1.645628   21.914124   20.209284   -0.958162   \n",
       "1  30.011150   8.105771   1.824675   11.158860   14.041341    4.578975   \n",
       "\n",
       "   TV_mfcc_13  \n",
       "0   -6.293470  \n",
       "1   -2.173921  \n",
       "\n",
       "[2 rows x 134 columns]"
      ]
     },
     "execution_count": 11,
     "metadata": {},
     "output_type": "execute_result"
    }
   ],
   "source": [
    "data = pd.read_csv('murmor_dataset.csv')  \n",
    "data.head(2)"
   ]
  },
  {
   "cell_type": "code",
   "execution_count": 12,
   "id": "c440d5ed",
   "metadata": {},
   "outputs": [],
   "source": [
    "y = data.MURMUR\n",
    "y = y.replace({'Present':1,'Absent':0})\n",
    "data = data.drop(columns=['Patient_ID', 'AV', 'MV', 'PV', 'TV','MURMUR'])"
   ]
  },
  {
   "cell_type": "code",
   "execution_count": 13,
   "id": "09b03a7e",
   "metadata": {
    "scrolled": true
   },
   "outputs": [],
   "source": [
    "data = data.fillna(0)"
   ]
  },
  {
   "cell_type": "markdown",
   "id": "e0c4c982",
   "metadata": {},
   "source": [
    "# Transformation - Data splitting"
   ]
  },
  {
   "cell_type": "code",
   "execution_count": 14,
   "id": "f488896d",
   "metadata": {},
   "outputs": [],
   "source": [
    "X_train, X_test, y_train, y_test = train_test_split(data, y, test_size=0.2, random_state=42)\n",
    "scaler = StandardScaler()\n",
    "s = scaler.fit(X_train)\n",
    "X_train=scaler.transform(X_train)\n",
    "X_test = scaler.transform(X_test)"
   ]
  },
  {
   "cell_type": "markdown",
   "id": "f95a30b0",
   "metadata": {},
   "source": [
    "# Logistic Regression Test"
   ]
  },
  {
   "cell_type": "code",
   "execution_count": 15,
   "id": "4a573ff4",
   "metadata": {},
   "outputs": [
    {
     "name": "stdout",
     "output_type": "stream",
     "text": [
      "Precision: 0.6\n",
      "Recall: 0.5581395348837209\n",
      "f1_score: 0.5783132530120482\n",
      "Accuracy: 0.7348484848484849\n"
     ]
    }
   ],
   "source": [
    "clf = LogisticRegression(random_state=0,max_iter=1000).fit(X_train, y_train) \n",
    "y_pred = clf.predict(X_test)\n",
    "print(f'Precision: {precision_score(y_test,y_pred)}')\n",
    "print(f'Recall: {recall_score(y_test,y_pred)}')\n",
    "print(f'f1_score: {f1_score(y_test,y_pred)}')\n",
    "print(f'Accuracy: {accuracy_score(y_test,y_pred)}')"
   ]
  },
  {
   "cell_type": "markdown",
   "id": "36c1ff91",
   "metadata": {},
   "source": [
    "# SVM test"
   ]
  },
  {
   "cell_type": "code",
   "execution_count": 16,
   "id": "4d896439",
   "metadata": {},
   "outputs": [
    {
     "name": "stdout",
     "output_type": "stream",
     "text": [
      "Precision: 0.7857142857142857\n",
      "Recall: 0.5116279069767442\n",
      "f1_score: 0.619718309859155\n",
      "Accuracy: 0.7954545454545454\n"
     ]
    }
   ],
   "source": [
    "\n",
    "clf1 = svm.SVC()\n",
    "clf1.fit(X_train, y_train)\n",
    "y_pred = clf1.predict(X_test)\n",
    "print(f'Precision: {precision_score(y_test,y_pred)}')\n",
    "print(f'Recall: {recall_score(y_test,y_pred)}')\n",
    "print(f'f1_score: {f1_score(y_test,y_pred)}')\n",
    "print(f'Accuracy: {accuracy_score(y_test,y_pred)}')"
   ]
  },
  {
   "cell_type": "code",
   "execution_count": null,
   "id": "a832d7df",
   "metadata": {},
   "outputs": [],
   "source": []
  }
 ],
 "metadata": {
  "kernelspec": {
   "display_name": "deeplearning",
   "language": "python",
   "name": "deeplearning"
  },
  "language_info": {
   "codemirror_mode": {
    "name": "ipython",
    "version": 3
   },
   "file_extension": ".py",
   "mimetype": "text/x-python",
   "name": "python",
   "nbconvert_exporter": "python",
   "pygments_lexer": "ipython3",
   "version": "3.9.12"
  }
 },
 "nbformat": 4,
 "nbformat_minor": 5
}
