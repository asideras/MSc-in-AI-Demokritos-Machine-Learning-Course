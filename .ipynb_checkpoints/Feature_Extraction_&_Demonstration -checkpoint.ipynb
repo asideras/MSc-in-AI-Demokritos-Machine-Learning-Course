{
 "cells": [
  {
   "cell_type": "code",
   "execution_count": 1,
   "id": "3391e189",
   "metadata": {},
   "outputs": [],
   "source": [
    "import pandas as pd\n",
    "import numpy as np\n",
    "import feature_extraction_ML as fe\n",
    "from data_loader_ML import DataLoaderML\n",
    "import warnings\n",
    "warnings.filterwarnings('ignore')"
   ]
  },
  {
   "cell_type": "code",
   "execution_count": null,
   "id": "4be8372a",
   "metadata": {},
   "outputs": [],
   "source": [
    "pd.set_option('display.max_columns', None)\n",
    "data = DataLoaderML()\n",
    "data.get_audios(fullDataset = True)"
   ]
  },
  {
   "cell_type": "code",
   "execution_count": null,
   "id": "44e7b1cd",
   "metadata": {},
   "outputs": [],
   "source": [
    "data.audios"
   ]
  },
  {
   "cell_type": "code",
   "execution_count": null,
   "id": "ff5a238d",
   "metadata": {},
   "outputs": [],
   "source": [
    "data.audios.isna().sum() # number of None values per area"
   ]
  },
  {
   "cell_type": "code",
   "execution_count": null,
   "id": "fa607c84",
   "metadata": {},
   "outputs": [],
   "source": [
    "df = data.audios.dropna()"
   ]
  },
  {
   "cell_type": "code",
   "execution_count": null,
   "id": "6c007adf",
   "metadata": {},
   "outputs": [],
   "source": [
    "df.head(5)"
   ]
  },
  {
   "cell_type": "code",
   "execution_count": null,
   "id": "6383705a",
   "metadata": {},
   "outputs": [],
   "source": [
    "print(f'There are {df.shape[0]} training samples with no missing value in the 4 areas')"
   ]
  },
  {
   "cell_type": "code",
   "execution_count": null,
   "id": "d97f507f",
   "metadata": {},
   "outputs": [],
   "source": [
    "df.groupby('MURMUR').count()['Patient_ID']"
   ]
  },
  {
   "cell_type": "code",
   "execution_count": null,
   "id": "93bc349b",
   "metadata": {},
   "outputs": [],
   "source": [
    "df = df[df.MURMUR != 'Unknown']\n",
    "#set audio signal length\n",
    "df = fe.set_len_extr(df,sec=8,augment=True)\n",
    "\n",
    "# stat ae\n",
    "fe.stat_amplitude_envelope_extr(df, np.mean, \"mean\")\n",
    "fe.stat_amplitude_envelope_extr(df, np.median, \"median\")\n",
    "fe.stat_amplitude_envelope_extr(df, np.std, \"std\")\n",
    "print(\"AE finished\")\n",
    "# perc ae\n",
    "fe.stat_amplitude_envelope_perc_extr(df, percentile=75)\n",
    "# stat rms\n",
    "fe.stat_rms_extr(df, np.mean, \"mean\")\n",
    "fe.stat_rms_extr(df, np.median, \"median\")\n",
    "fe.stat_rms_extr(df, np.std, \"std\")\n",
    "print(\"rms finished\")\n",
    "# perc rms\n",
    "fe.stat_rms_perc_extr(df, percentile=75)\n",
    "# max mag freq\n",
    "fe.max_frequency_extr(df)\n",
    "fe.total_energy_extr(df)\n",
    "\n",
    "# ZCR\n",
    "fe.zero_crossing_rate_extr(df)\n",
    "\n",
    "# onset detection\n",
    "fe.onset_detection_extr(df)\n",
    "\n",
    "# skewness and kurtosis\n",
    "fe.skewness_extr(df)\n",
    "fe.kurtosis_extr(df)\n",
    "\n",
    "# Band Energy Ratio\n",
    "fe.band_energy_ratio_extr(df, np.mean, \"mean\", 2000)\n",
    "fe.band_energy_ratio_extr(df, np.std, \"std\", 2000)\n",
    "print(\"BER finished\")\n",
    "\n",
    "\n",
    "# Spectral centroid\n",
    "fe.spectral_centroid_extr(df, np.mean, \"mean\")\n",
    "# Bandwidth\n",
    "fe.spectral_bandwidth_extr(df,  np.mean, \"mean\")\n",
    "# Autocorrelation\n",
    "fe.autocorrelation_extr(df,  np.mean, \"mean\")\n",
    "print(\"autocor finished\")\n",
    "\n",
    "# MFCC's\n",
    "fe.mfccs_extr(df)"
   ]
  },
  {
   "cell_type": "code",
   "execution_count": null,
   "id": "7ec822a9",
   "metadata": {},
   "outputs": [],
   "source": [
    "df.groupby('MURMUR').count()['Patient_ID']"
   ]
  },
  {
   "cell_type": "code",
   "execution_count": null,
   "id": "f94e16e8",
   "metadata": {},
   "outputs": [],
   "source": [
    "df.to_csv('murmor_dataset.csv', index=False)"
   ]
  }
 ],
 "metadata": {
  "kernelspec": {
   "display_name": "deeplearning",
   "language": "python",
   "name": "deeplearning"
  },
  "language_info": {
   "codemirror_mode": {
    "name": "ipython",
    "version": 3
   },
   "file_extension": ".py",
   "mimetype": "text/x-python",
   "name": "python",
   "nbconvert_exporter": "python",
   "pygments_lexer": "ipython3",
   "version": "3.9.12"
  }
 },
 "nbformat": 4,
 "nbformat_minor": 5
}
