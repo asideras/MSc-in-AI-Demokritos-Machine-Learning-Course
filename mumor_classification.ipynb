{
 "cells": [
  {
   "cell_type": "code",
   "execution_count": null,
   "metadata": {},
   "outputs": [],
   "source": [
    "#Hello World commit\n",
    "#Andreas Sideras\n",
    "#Tatiana Boura \n",
    "#Assignment on ML course"
   ]
  }
 ],
 "metadata": {
  "language_info": {
   "name": "python"
  },
  "orig_nbformat": 4
 },
 "nbformat": 4,
 "nbformat_minor": 2
}
