{
 "cells": [
  {
   "cell_type": "code",
   "execution_count": 1,
   "metadata": {},
   "outputs": [],
   "source": [
    "import pandas as pd\n",
    "import numpy as np\n",
    "\n",
    "from data_loader_ML import DataLoaderML\n",
    "import warnings\n",
    "warnings.filterwarnings('ignore')"
   ]
  },
  {
   "cell_type": "code",
   "execution_count": 2,
   "metadata": {},
   "outputs": [],
   "source": [
    "data = DataLoaderML()"
   ]
  },
  {
   "cell_type": "code",
   "execution_count": 3,
   "metadata": {},
   "outputs": [
    {
     "name": "stdout",
     "output_type": "stream",
     "text": [
      "Please wait. Out of 942 patient audios,\n",
      "0 patient audios have been loaded\n",
      "100 patient audios have been loaded\n",
      "200 patient audios have been loaded\n",
      "300 patient audios have been loaded\n",
      "400 patient audios have been loaded\n",
      "500 patient audios have been loaded\n",
      "600 patient audios have been loaded\n",
      "700 patient audios have been loaded\n",
      "800 patient audios have been loaded\n",
      "900 patient audios have been loaded\n"
     ]
    }
   ],
   "source": [
    "data.get_audios()"
   ]
  },
  {
   "cell_type": "code",
   "execution_count": 4,
   "metadata": {},
   "outputs": [
    {
     "data": {
      "text/html": [
       "<div>\n",
       "<style scoped>\n",
       "    .dataframe tbody tr th:only-of-type {\n",
       "        vertical-align: middle;\n",
       "    }\n",
       "\n",
       "    .dataframe tbody tr th {\n",
       "        vertical-align: top;\n",
       "    }\n",
       "\n",
       "    .dataframe thead th {\n",
       "        text-align: right;\n",
       "    }\n",
       "</style>\n",
       "<table border=\"1\" class=\"dataframe\">\n",
       "  <thead>\n",
       "    <tr style=\"text-align: right;\">\n",
       "      <th></th>\n",
       "      <th>Patient_ID</th>\n",
       "      <th>AV</th>\n",
       "      <th>MV</th>\n",
       "      <th>PV</th>\n",
       "      <th>TV</th>\n",
       "      <th>MURMUR</th>\n",
       "    </tr>\n",
       "  </thead>\n",
       "  <tbody>\n",
       "    <tr>\n",
       "      <th>0</th>\n",
       "      <td>2530</td>\n",
       "      <td>[-0.011331763, -0.0063461154, 0.0008841861, 0....</td>\n",
       "      <td>[0.36723548, 0.39998227, 0.4128391, 0.4063368,...</td>\n",
       "      <td>[0.07548434, 0.08113554, 0.08231447, 0.0793684...</td>\n",
       "      <td>[0.06667692, 0.07404709, 0.07828741, 0.0795538...</td>\n",
       "      <td>Absent</td>\n",
       "    </tr>\n",
       "    <tr>\n",
       "      <th>1</th>\n",
       "      <td>9979</td>\n",
       "      <td>[0.04911021, 0.06300914, 0.07732098, 0.0912046...</td>\n",
       "      <td>[0.14847445, 0.16823082, 0.18181917, 0.1891644...</td>\n",
       "      <td>[0.94922936, 1.0470796, 1.0954523, 1.0936234, ...</td>\n",
       "      <td>[0.013476763, 0.01739587, 0.013739649, -0.0018...</td>\n",
       "      <td>Present</td>\n",
       "    </tr>\n",
       "    <tr>\n",
       "      <th>2</th>\n",
       "      <td>9983</td>\n",
       "      <td>[0.027557356, 0.031606995, 0.03487075, 0.03744...</td>\n",
       "      <td>[-0.02313522, -0.02673009, -0.02906448, -0.029...</td>\n",
       "      <td>[0.100047894, 0.08930685, 0.06477623, 0.027554...</td>\n",
       "      <td>[0.025206711, 0.026646812, 0.026619088, 0.0253...</td>\n",
       "      <td>Unknown</td>\n",
       "    </tr>\n",
       "    <tr>\n",
       "      <th>3</th>\n",
       "      <td>13918</td>\n",
       "      <td>[0.0004159419, 0.0008962695, 0.0011781004, 0.0...</td>\n",
       "      <td>[-0.0535802, -0.060866673, -0.065505505, -0.06...</td>\n",
       "      <td>[0.6047976, 0.6647704, 0.6936066, 0.6913765, 0...</td>\n",
       "      <td>[-0.002155952, -0.00087783893, 0.0010613764, 0...</td>\n",
       "      <td>Present</td>\n",
       "    </tr>\n",
       "    <tr>\n",
       "      <th>4</th>\n",
       "      <td>14241</td>\n",
       "      <td>[0.006493539, 0.0065751434, 0.0059580943, 0.00...</td>\n",
       "      <td>[0.07059953, 0.07696698, 0.07921517, 0.0774918...</td>\n",
       "      <td>[-0.038830675, -0.03927154, -0.036940027, -0.0...</td>\n",
       "      <td>[0.023087388, 0.026930997, 0.030365026, 0.0336...</td>\n",
       "      <td>Present</td>\n",
       "    </tr>\n",
       "    <tr>\n",
       "      <th>...</th>\n",
       "      <td>...</td>\n",
       "      <td>...</td>\n",
       "      <td>...</td>\n",
       "      <td>...</td>\n",
       "      <td>...</td>\n",
       "      <td>...</td>\n",
       "    </tr>\n",
       "    <tr>\n",
       "      <th>937</th>\n",
       "      <td>85340</td>\n",
       "      <td>[0.1679408, 0.18707043, 0.19415374, 0.18804699...</td>\n",
       "      <td>[0.009680796, 0.011671027, 0.013032296, 0.0135...</td>\n",
       "      <td>[-0.19644624, -0.22403994, -0.24240012, -0.250...</td>\n",
       "      <td>[0.003284532, 0.002875427, 0.002163854, 0.0011...</td>\n",
       "      <td>Absent</td>\n",
       "    </tr>\n",
       "    <tr>\n",
       "      <th>938</th>\n",
       "      <td>85341</td>\n",
       "      <td>[-0.09337107, -0.026182987, 0.06578951, 0.1730...</td>\n",
       "      <td>[0.10981277, 0.115506835, 0.112576194, 0.10106...</td>\n",
       "      <td>[0.042366326, 0.04265387, 0.038385164, 0.02979...</td>\n",
       "      <td>[-0.13252929, -0.14456213, -0.1472369, -0.1401...</td>\n",
       "      <td>Absent</td>\n",
       "    </tr>\n",
       "    <tr>\n",
       "      <th>939</th>\n",
       "      <td>85343</td>\n",
       "      <td>[0.012957233, 0.016487204, 0.019973602, 0.0230...</td>\n",
       "      <td>[-0.09863811, -0.08068446, -0.050032195, -0.01...</td>\n",
       "      <td>[-0.0023010615, -0.0017294218, -0.0008662953, ...</td>\n",
       "      <td>[-0.020847958, -0.026429573, -0.031285137, -0....</td>\n",
       "      <td>Present</td>\n",
       "    </tr>\n",
       "    <tr>\n",
       "      <th>940</th>\n",
       "      <td>85345</td>\n",
       "      <td>[0.037634924, 0.04447094, 0.050395332, 0.05513...</td>\n",
       "      <td>None</td>\n",
       "      <td>[-0.0056456323, -0.0006415307, 0.0059839287, 0...</td>\n",
       "      <td>None</td>\n",
       "      <td>Absent</td>\n",
       "    </tr>\n",
       "    <tr>\n",
       "      <th>941</th>\n",
       "      <td>85349</td>\n",
       "      <td>[0.00041029125, 0.000490782, 0.0006255761, 0.0...</td>\n",
       "      <td>None</td>\n",
       "      <td>[0.1312694, 0.1259535, 0.11530608, 0.10331579,...</td>\n",
       "      <td>[0.2067477, 0.21841843, 0.2153168, 0.19831449,...</td>\n",
       "      <td>Absent</td>\n",
       "    </tr>\n",
       "  </tbody>\n",
       "</table>\n",
       "<p>942 rows × 6 columns</p>\n",
       "</div>"
      ],
      "text/plain": [
       "    Patient_ID                                                 AV  \\\n",
       "0         2530  [-0.011331763, -0.0063461154, 0.0008841861, 0....   \n",
       "1         9979  [0.04911021, 0.06300914, 0.07732098, 0.0912046...   \n",
       "2         9983  [0.027557356, 0.031606995, 0.03487075, 0.03744...   \n",
       "3        13918  [0.0004159419, 0.0008962695, 0.0011781004, 0.0...   \n",
       "4        14241  [0.006493539, 0.0065751434, 0.0059580943, 0.00...   \n",
       "..         ...                                                ...   \n",
       "937      85340  [0.1679408, 0.18707043, 0.19415374, 0.18804699...   \n",
       "938      85341  [-0.09337107, -0.026182987, 0.06578951, 0.1730...   \n",
       "939      85343  [0.012957233, 0.016487204, 0.019973602, 0.0230...   \n",
       "940      85345  [0.037634924, 0.04447094, 0.050395332, 0.05513...   \n",
       "941      85349  [0.00041029125, 0.000490782, 0.0006255761, 0.0...   \n",
       "\n",
       "                                                    MV  \\\n",
       "0    [0.36723548, 0.39998227, 0.4128391, 0.4063368,...   \n",
       "1    [0.14847445, 0.16823082, 0.18181917, 0.1891644...   \n",
       "2    [-0.02313522, -0.02673009, -0.02906448, -0.029...   \n",
       "3    [-0.0535802, -0.060866673, -0.065505505, -0.06...   \n",
       "4    [0.07059953, 0.07696698, 0.07921517, 0.0774918...   \n",
       "..                                                 ...   \n",
       "937  [0.009680796, 0.011671027, 0.013032296, 0.0135...   \n",
       "938  [0.10981277, 0.115506835, 0.112576194, 0.10106...   \n",
       "939  [-0.09863811, -0.08068446, -0.050032195, -0.01...   \n",
       "940                                               None   \n",
       "941                                               None   \n",
       "\n",
       "                                                    PV  \\\n",
       "0    [0.07548434, 0.08113554, 0.08231447, 0.0793684...   \n",
       "1    [0.94922936, 1.0470796, 1.0954523, 1.0936234, ...   \n",
       "2    [0.100047894, 0.08930685, 0.06477623, 0.027554...   \n",
       "3    [0.6047976, 0.6647704, 0.6936066, 0.6913765, 0...   \n",
       "4    [-0.038830675, -0.03927154, -0.036940027, -0.0...   \n",
       "..                                                 ...   \n",
       "937  [-0.19644624, -0.22403994, -0.24240012, -0.250...   \n",
       "938  [0.042366326, 0.04265387, 0.038385164, 0.02979...   \n",
       "939  [-0.0023010615, -0.0017294218, -0.0008662953, ...   \n",
       "940  [-0.0056456323, -0.0006415307, 0.0059839287, 0...   \n",
       "941  [0.1312694, 0.1259535, 0.11530608, 0.10331579,...   \n",
       "\n",
       "                                                    TV   MURMUR  \n",
       "0    [0.06667692, 0.07404709, 0.07828741, 0.0795538...   Absent  \n",
       "1    [0.013476763, 0.01739587, 0.013739649, -0.0018...  Present  \n",
       "2    [0.025206711, 0.026646812, 0.026619088, 0.0253...  Unknown  \n",
       "3    [-0.002155952, -0.00087783893, 0.0010613764, 0...  Present  \n",
       "4    [0.023087388, 0.026930997, 0.030365026, 0.0336...  Present  \n",
       "..                                                 ...      ...  \n",
       "937  [0.003284532, 0.002875427, 0.002163854, 0.0011...   Absent  \n",
       "938  [-0.13252929, -0.14456213, -0.1472369, -0.1401...   Absent  \n",
       "939  [-0.020847958, -0.026429573, -0.031285137, -0....  Present  \n",
       "940                                               None   Absent  \n",
       "941  [0.2067477, 0.21841843, 0.2153168, 0.19831449,...   Absent  \n",
       "\n",
       "[942 rows x 6 columns]"
      ]
     },
     "execution_count": 4,
     "metadata": {},
     "output_type": "execute_result"
    }
   ],
   "source": [
    "data.audios"
   ]
  },
  {
   "cell_type": "code",
   "execution_count": 5,
   "metadata": {},
   "outputs": [
    {
     "data": {
      "text/plain": [
       "Patient_ID      0\n",
       "AV            155\n",
       "MV             93\n",
       "PV            180\n",
       "TV            222\n",
       "MURMUR          0\n",
       "dtype: int64"
      ]
     },
     "execution_count": 5,
     "metadata": {},
     "output_type": "execute_result"
    }
   ],
   "source": [
    "data.audios.isna().sum() # number of None values per area"
   ]
  },
  {
   "cell_type": "code",
   "execution_count": 6,
   "metadata": {},
   "outputs": [],
   "source": [
    "df = data.audios.dropna()"
   ]
  },
  {
   "cell_type": "code",
   "execution_count": 7,
   "metadata": {},
   "outputs": [
    {
     "name": "stdout",
     "output_type": "stream",
     "text": [
      "There are 587 training samples with no missing value in the 4 areas\n"
     ]
    }
   ],
   "source": [
    "print(f'There are {df.shape[0]} training samples with no missing value in the 4 areas')"
   ]
  },
  {
   "cell_type": "code",
   "execution_count": 8,
   "metadata": {},
   "outputs": [
    {
     "data": {
      "text/plain": [
       "MURMUR\n",
       "Absent     457\n",
       "Present    117\n",
       "Unknown     13\n",
       "Name: Patient_ID, dtype: int64"
      ]
     },
     "execution_count": 8,
     "metadata": {},
     "output_type": "execute_result"
    }
   ],
   "source": [
    "df.groupby('MURMUR').count()['Patient_ID']"
   ]
  },
  {
   "cell_type": "code",
   "execution_count": null,
   "metadata": {},
   "outputs": [],
   "source": []
  }
 ],
 "metadata": {
  "kernelspec": {
   "display_name": "deeplearning",
   "language": "python",
   "name": "deeplearning"
  },
  "language_info": {
   "codemirror_mode": {
    "name": "ipython",
    "version": 3
   },
   "file_extension": ".py",
   "mimetype": "text/x-python",
   "name": "python",
   "nbconvert_exporter": "python",
   "pygments_lexer": "ipython3",
   "version": "3.9.12"
  }
 },
 "nbformat": 4,
 "nbformat_minor": 4
}
