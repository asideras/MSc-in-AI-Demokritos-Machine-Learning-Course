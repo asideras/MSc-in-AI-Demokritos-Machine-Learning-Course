{
 "cells": [
  {
   "cell_type": "code",
   "execution_count": 1,
   "id": "17f644ee",
   "metadata": {},
   "outputs": [],
   "source": [
    "import pandas as pd\n",
    "import numpy as np\n",
    "import warnings\n",
    "warnings.filterwarnings('ignore')\n",
    "from sklearn.model_selection import train_test_split\n",
    "from sklearn.linear_model import LogisticRegression\n",
    "from sklearn.metrics import precision_score,recall_score,f1_score,accuracy_score\n",
    "from sklearn.discriminant_analysis import LinearDiscriminantAnalysis, QuadraticDiscriminantAnalysis\n",
    "from sklearn.neighbors import KNeighborsClassifier\n",
    "from sklearn.preprocessing import StandardScaler\n",
    "from sklearn.naive_bayes import GaussianNB\n",
    "from sklearn import tree\n",
    "from sklearn import svm"
   ]
  },
  {
   "cell_type": "code",
   "execution_count": 2,
   "id": "eb8062f2",
   "metadata": {},
   "outputs": [
    {
     "data": {
      "text/plain": [
       "MURMUR\n",
       "Absent     457\n",
       "Present    203\n",
       "Name: Patient_ID, dtype: int64"
      ]
     },
     "execution_count": 2,
     "metadata": {},
     "output_type": "execute_result"
    }
   ],
   "source": [
    "data = pd.read_csv('murmor_dataset.csv')  \n",
    "#data.head(2)\n",
    "data.groupby('MURMUR').count()['Patient_ID']"
   ]
  },
  {
   "cell_type": "code",
   "execution_count": 3,
   "id": "c440d5ed",
   "metadata": {},
   "outputs": [],
   "source": [
    "y = data.MURMUR\n",
    "y = y.replace({'Present':1,'Absent':0})\n",
    "data = data.drop(columns=['Patient_ID', 'AV', 'MV', 'PV', 'TV','MURMUR'])"
   ]
  },
  {
   "cell_type": "code",
   "execution_count": 4,
   "id": "09b03a7e",
   "metadata": {
    "scrolled": true
   },
   "outputs": [
    {
     "data": {
      "text/html": [
       "<div>\n",
       "<style scoped>\n",
       "    .dataframe tbody tr th:only-of-type {\n",
       "        vertical-align: middle;\n",
       "    }\n",
       "\n",
       "    .dataframe tbody tr th {\n",
       "        vertical-align: top;\n",
       "    }\n",
       "\n",
       "    .dataframe thead th {\n",
       "        text-align: right;\n",
       "    }\n",
       "</style>\n",
       "<table border=\"1\" class=\"dataframe\">\n",
       "  <thead>\n",
       "    <tr style=\"text-align: right;\">\n",
       "      <th></th>\n",
       "      <th>mean_ae_AV</th>\n",
       "      <th>mean_ae_MV</th>\n",
       "      <th>mean_ae_PV</th>\n",
       "      <th>mean_ae_TV</th>\n",
       "      <th>median_ae_AV</th>\n",
       "      <th>median_ae_MV</th>\n",
       "      <th>median_ae_PV</th>\n",
       "      <th>median_ae_TV</th>\n",
       "      <th>std_ae_AV</th>\n",
       "      <th>std_ae_MV</th>\n",
       "      <th>...</th>\n",
       "      <th>TV_mfcc_4</th>\n",
       "      <th>TV_mfcc_5</th>\n",
       "      <th>TV_mfcc_6</th>\n",
       "      <th>TV_mfcc_7</th>\n",
       "      <th>TV_mfcc_8</th>\n",
       "      <th>TV_mfcc_9</th>\n",
       "      <th>TV_mfcc_10</th>\n",
       "      <th>TV_mfcc_11</th>\n",
       "      <th>TV_mfcc_12</th>\n",
       "      <th>TV_mfcc_13</th>\n",
       "    </tr>\n",
       "  </thead>\n",
       "  <tbody>\n",
       "    <tr>\n",
       "      <th>0</th>\n",
       "      <td>0.093476</td>\n",
       "      <td>0.083762</td>\n",
       "      <td>0.164984</td>\n",
       "      <td>0.107563</td>\n",
       "      <td>0.047040</td>\n",
       "      <td>0.033079</td>\n",
       "      <td>0.087165</td>\n",
       "      <td>0.042905</td>\n",
       "      <td>0.102132</td>\n",
       "      <td>0.131644</td>\n",
       "      <td>...</td>\n",
       "      <td>-33.460999</td>\n",
       "      <td>-6.598893</td>\n",
       "      <td>34.000908</td>\n",
       "      <td>21.154072</td>\n",
       "      <td>-7.830566</td>\n",
       "      <td>-1.645628</td>\n",
       "      <td>21.914124</td>\n",
       "      <td>20.209282</td>\n",
       "      <td>-0.958162</td>\n",
       "      <td>-6.293470</td>\n",
       "    </tr>\n",
       "    <tr>\n",
       "      <th>1</th>\n",
       "      <td>0.208012</td>\n",
       "      <td>0.207428</td>\n",
       "      <td>0.220741</td>\n",
       "      <td>0.521196</td>\n",
       "      <td>0.186779</td>\n",
       "      <td>0.200002</td>\n",
       "      <td>0.179823</td>\n",
       "      <td>0.517704</td>\n",
       "      <td>0.142052</td>\n",
       "      <td>0.147645</td>\n",
       "      <td>...</td>\n",
       "      <td>17.596321</td>\n",
       "      <td>19.525085</td>\n",
       "      <td>37.584980</td>\n",
       "      <td>30.011152</td>\n",
       "      <td>8.105770</td>\n",
       "      <td>1.824675</td>\n",
       "      <td>11.158860</td>\n",
       "      <td>14.041341</td>\n",
       "      <td>4.578974</td>\n",
       "      <td>-2.173921</td>\n",
       "    </tr>\n",
       "    <tr>\n",
       "      <th>2</th>\n",
       "      <td>0.091702</td>\n",
       "      <td>0.099159</td>\n",
       "      <td>0.121979</td>\n",
       "      <td>0.129162</td>\n",
       "      <td>0.059809</td>\n",
       "      <td>0.067497</td>\n",
       "      <td>0.076158</td>\n",
       "      <td>0.042184</td>\n",
       "      <td>0.085225</td>\n",
       "      <td>0.115260</td>\n",
       "      <td>...</td>\n",
       "      <td>-29.298609</td>\n",
       "      <td>-5.337496</td>\n",
       "      <td>30.698105</td>\n",
       "      <td>20.061325</td>\n",
       "      <td>-6.931499</td>\n",
       "      <td>-4.781078</td>\n",
       "      <td>14.501362</td>\n",
       "      <td>14.630821</td>\n",
       "      <td>-2.321874</td>\n",
       "      <td>-7.382983</td>\n",
       "    </tr>\n",
       "    <tr>\n",
       "      <th>3</th>\n",
       "      <td>0.102736</td>\n",
       "      <td>0.137654</td>\n",
       "      <td>0.125572</td>\n",
       "      <td>0.118599</td>\n",
       "      <td>0.070183</td>\n",
       "      <td>0.050025</td>\n",
       "      <td>0.089777</td>\n",
       "      <td>0.034491</td>\n",
       "      <td>0.152237</td>\n",
       "      <td>0.243194</td>\n",
       "      <td>...</td>\n",
       "      <td>-16.032585</td>\n",
       "      <td>-7.885186</td>\n",
       "      <td>16.791134</td>\n",
       "      <td>13.384658</td>\n",
       "      <td>-3.903045</td>\n",
       "      <td>-4.349921</td>\n",
       "      <td>8.308956</td>\n",
       "      <td>10.734879</td>\n",
       "      <td>0.940423</td>\n",
       "      <td>-3.516605</td>\n",
       "    </tr>\n",
       "    <tr>\n",
       "      <th>4</th>\n",
       "      <td>0.125086</td>\n",
       "      <td>0.189740</td>\n",
       "      <td>0.169284</td>\n",
       "      <td>0.204370</td>\n",
       "      <td>0.089281</td>\n",
       "      <td>0.112374</td>\n",
       "      <td>0.132720</td>\n",
       "      <td>0.140140</td>\n",
       "      <td>0.105365</td>\n",
       "      <td>0.181673</td>\n",
       "      <td>...</td>\n",
       "      <td>-42.962135</td>\n",
       "      <td>-18.818758</td>\n",
       "      <td>24.844090</td>\n",
       "      <td>18.756638</td>\n",
       "      <td>-8.074683</td>\n",
       "      <td>-5.306619</td>\n",
       "      <td>16.791115</td>\n",
       "      <td>18.958763</td>\n",
       "      <td>1.252272</td>\n",
       "      <td>-5.608494</td>\n",
       "    </tr>\n",
       "    <tr>\n",
       "      <th>...</th>\n",
       "      <td>...</td>\n",
       "      <td>...</td>\n",
       "      <td>...</td>\n",
       "      <td>...</td>\n",
       "      <td>...</td>\n",
       "      <td>...</td>\n",
       "      <td>...</td>\n",
       "      <td>...</td>\n",
       "      <td>...</td>\n",
       "      <td>...</td>\n",
       "      <td>...</td>\n",
       "      <td>...</td>\n",
       "      <td>...</td>\n",
       "      <td>...</td>\n",
       "      <td>...</td>\n",
       "      <td>...</td>\n",
       "      <td>...</td>\n",
       "      <td>...</td>\n",
       "      <td>...</td>\n",
       "      <td>...</td>\n",
       "      <td>...</td>\n",
       "    </tr>\n",
       "    <tr>\n",
       "      <th>655</th>\n",
       "      <td>0.444231</td>\n",
       "      <td>0.149096</td>\n",
       "      <td>0.121362</td>\n",
       "      <td>0.216245</td>\n",
       "      <td>0.452134</td>\n",
       "      <td>0.100187</td>\n",
       "      <td>0.120617</td>\n",
       "      <td>0.223760</td>\n",
       "      <td>0.309193</td>\n",
       "      <td>0.138438</td>\n",
       "      <td>...</td>\n",
       "      <td>-11.825885</td>\n",
       "      <td>-5.011165</td>\n",
       "      <td>26.163977</td>\n",
       "      <td>20.614601</td>\n",
       "      <td>-3.552867</td>\n",
       "      <td>-5.199866</td>\n",
       "      <td>10.845299</td>\n",
       "      <td>13.142046</td>\n",
       "      <td>-0.844687</td>\n",
       "      <td>-6.795125</td>\n",
       "    </tr>\n",
       "    <tr>\n",
       "      <th>656</th>\n",
       "      <td>0.098496</td>\n",
       "      <td>0.047454</td>\n",
       "      <td>0.078426</td>\n",
       "      <td>0.064200</td>\n",
       "      <td>0.073418</td>\n",
       "      <td>0.042560</td>\n",
       "      <td>0.084883</td>\n",
       "      <td>0.065354</td>\n",
       "      <td>0.120828</td>\n",
       "      <td>0.028967</td>\n",
       "      <td>...</td>\n",
       "      <td>-56.324604</td>\n",
       "      <td>-8.860107</td>\n",
       "      <td>44.910240</td>\n",
       "      <td>22.425835</td>\n",
       "      <td>-17.387327</td>\n",
       "      <td>-7.809362</td>\n",
       "      <td>21.201967</td>\n",
       "      <td>15.155473</td>\n",
       "      <td>-11.155810</td>\n",
       "      <td>-12.096591</td>\n",
       "    </tr>\n",
       "    <tr>\n",
       "      <th>657</th>\n",
       "      <td>0.110223</td>\n",
       "      <td>0.145489</td>\n",
       "      <td>0.204346</td>\n",
       "      <td>0.155980</td>\n",
       "      <td>0.084383</td>\n",
       "      <td>0.116087</td>\n",
       "      <td>0.147397</td>\n",
       "      <td>0.081949</td>\n",
       "      <td>0.153631</td>\n",
       "      <td>0.133531</td>\n",
       "      <td>...</td>\n",
       "      <td>-16.779829</td>\n",
       "      <td>-1.881451</td>\n",
       "      <td>30.266893</td>\n",
       "      <td>24.487698</td>\n",
       "      <td>-0.503826</td>\n",
       "      <td>-4.205161</td>\n",
       "      <td>10.446774</td>\n",
       "      <td>13.586130</td>\n",
       "      <td>1.071647</td>\n",
       "      <td>-4.660987</td>\n",
       "    </tr>\n",
       "    <tr>\n",
       "      <th>658</th>\n",
       "      <td>0.115837</td>\n",
       "      <td>0.133750</td>\n",
       "      <td>0.278490</td>\n",
       "      <td>0.355638</td>\n",
       "      <td>0.132048</td>\n",
       "      <td>0.140689</td>\n",
       "      <td>0.240603</td>\n",
       "      <td>0.347520</td>\n",
       "      <td>0.076844</td>\n",
       "      <td>0.121044</td>\n",
       "      <td>...</td>\n",
       "      <td>-13.073344</td>\n",
       "      <td>-8.276624</td>\n",
       "      <td>20.480719</td>\n",
       "      <td>16.134476</td>\n",
       "      <td>-4.487090</td>\n",
       "      <td>-3.632254</td>\n",
       "      <td>12.708085</td>\n",
       "      <td>14.148383</td>\n",
       "      <td>-0.949542</td>\n",
       "      <td>-7.966821</td>\n",
       "    </tr>\n",
       "    <tr>\n",
       "      <th>659</th>\n",
       "      <td>0.090058</td>\n",
       "      <td>0.134079</td>\n",
       "      <td>0.154838</td>\n",
       "      <td>0.173535</td>\n",
       "      <td>0.073096</td>\n",
       "      <td>0.126625</td>\n",
       "      <td>0.100019</td>\n",
       "      <td>0.152580</td>\n",
       "      <td>0.061703</td>\n",
       "      <td>0.113027</td>\n",
       "      <td>...</td>\n",
       "      <td>-54.511307</td>\n",
       "      <td>-17.135267</td>\n",
       "      <td>36.475582</td>\n",
       "      <td>24.504648</td>\n",
       "      <td>-12.515686</td>\n",
       "      <td>-11.792901</td>\n",
       "      <td>13.241126</td>\n",
       "      <td>16.168577</td>\n",
       "      <td>-1.228554</td>\n",
       "      <td>-4.621943</td>\n",
       "    </tr>\n",
       "  </tbody>\n",
       "</table>\n",
       "<p>660 rows × 128 columns</p>\n",
       "</div>"
      ],
      "text/plain": [
       "     mean_ae_AV  mean_ae_MV  mean_ae_PV  mean_ae_TV  median_ae_AV  \\\n",
       "0      0.093476    0.083762    0.164984    0.107563      0.047040   \n",
       "1      0.208012    0.207428    0.220741    0.521196      0.186779   \n",
       "2      0.091702    0.099159    0.121979    0.129162      0.059809   \n",
       "3      0.102736    0.137654    0.125572    0.118599      0.070183   \n",
       "4      0.125086    0.189740    0.169284    0.204370      0.089281   \n",
       "..          ...         ...         ...         ...           ...   \n",
       "655    0.444231    0.149096    0.121362    0.216245      0.452134   \n",
       "656    0.098496    0.047454    0.078426    0.064200      0.073418   \n",
       "657    0.110223    0.145489    0.204346    0.155980      0.084383   \n",
       "658    0.115837    0.133750    0.278490    0.355638      0.132048   \n",
       "659    0.090058    0.134079    0.154838    0.173535      0.073096   \n",
       "\n",
       "     median_ae_MV  median_ae_PV  median_ae_TV  std_ae_AV  std_ae_MV  ...  \\\n",
       "0        0.033079      0.087165      0.042905   0.102132   0.131644  ...   \n",
       "1        0.200002      0.179823      0.517704   0.142052   0.147645  ...   \n",
       "2        0.067497      0.076158      0.042184   0.085225   0.115260  ...   \n",
       "3        0.050025      0.089777      0.034491   0.152237   0.243194  ...   \n",
       "4        0.112374      0.132720      0.140140   0.105365   0.181673  ...   \n",
       "..            ...           ...           ...        ...        ...  ...   \n",
       "655      0.100187      0.120617      0.223760   0.309193   0.138438  ...   \n",
       "656      0.042560      0.084883      0.065354   0.120828   0.028967  ...   \n",
       "657      0.116087      0.147397      0.081949   0.153631   0.133531  ...   \n",
       "658      0.140689      0.240603      0.347520   0.076844   0.121044  ...   \n",
       "659      0.126625      0.100019      0.152580   0.061703   0.113027  ...   \n",
       "\n",
       "     TV_mfcc_4  TV_mfcc_5  TV_mfcc_6  TV_mfcc_7  TV_mfcc_8  TV_mfcc_9  \\\n",
       "0   -33.460999  -6.598893  34.000908  21.154072  -7.830566  -1.645628   \n",
       "1    17.596321  19.525085  37.584980  30.011152   8.105770   1.824675   \n",
       "2   -29.298609  -5.337496  30.698105  20.061325  -6.931499  -4.781078   \n",
       "3   -16.032585  -7.885186  16.791134  13.384658  -3.903045  -4.349921   \n",
       "4   -42.962135 -18.818758  24.844090  18.756638  -8.074683  -5.306619   \n",
       "..         ...        ...        ...        ...        ...        ...   \n",
       "655 -11.825885  -5.011165  26.163977  20.614601  -3.552867  -5.199866   \n",
       "656 -56.324604  -8.860107  44.910240  22.425835 -17.387327  -7.809362   \n",
       "657 -16.779829  -1.881451  30.266893  24.487698  -0.503826  -4.205161   \n",
       "658 -13.073344  -8.276624  20.480719  16.134476  -4.487090  -3.632254   \n",
       "659 -54.511307 -17.135267  36.475582  24.504648 -12.515686 -11.792901   \n",
       "\n",
       "     TV_mfcc_10  TV_mfcc_11  TV_mfcc_12  TV_mfcc_13  \n",
       "0     21.914124   20.209282   -0.958162   -6.293470  \n",
       "1     11.158860   14.041341    4.578974   -2.173921  \n",
       "2     14.501362   14.630821   -2.321874   -7.382983  \n",
       "3      8.308956   10.734879    0.940423   -3.516605  \n",
       "4     16.791115   18.958763    1.252272   -5.608494  \n",
       "..          ...         ...         ...         ...  \n",
       "655   10.845299   13.142046   -0.844687   -6.795125  \n",
       "656   21.201967   15.155473  -11.155810  -12.096591  \n",
       "657   10.446774   13.586130    1.071647   -4.660987  \n",
       "658   12.708085   14.148383   -0.949542   -7.966821  \n",
       "659   13.241126   16.168577   -1.228554   -4.621943  \n",
       "\n",
       "[660 rows x 128 columns]"
      ]
     },
     "execution_count": 4,
     "metadata": {},
     "output_type": "execute_result"
    }
   ],
   "source": [
    "data = data.fillna(0)\n",
    "data.replace([np.inf, -np.inf], 0, inplace=True)\n",
    "data"
   ]
  },
  {
   "cell_type": "markdown",
   "id": "e0c4c982",
   "metadata": {},
   "source": [
    "# Transformation - Data splitting"
   ]
  },
  {
   "cell_type": "code",
   "execution_count": 5,
   "id": "f488896d",
   "metadata": {},
   "outputs": [],
   "source": [
    "X_train, X_test, y_train, y_test = train_test_split(data, y, test_size=0.2, random_state=42)\n",
    "scaler = StandardScaler()\n",
    "s = scaler.fit(X_train)\n",
    "X_train=scaler.transform(X_train)\n",
    "X_test = scaler.transform(X_test)"
   ]
  },
  {
   "cell_type": "code",
   "execution_count": 6,
   "id": "4f0188e0",
   "metadata": {},
   "outputs": [],
   "source": [
    "def print_metrics(y_test,y_pred):\n",
    "    print(f'Precision: {precision_score(y_test,y_pred)}')\n",
    "    print(f'Recall: {recall_score(y_test,y_pred)}')\n",
    "    print(f'f1_score: {f1_score(y_test,y_pred)}')\n",
    "    print(f'Accuracy: {accuracy_score(y_test,y_pred)}') "
   ]
  },
  {
   "cell_type": "markdown",
   "id": "f95a30b0",
   "metadata": {},
   "source": [
    "# Logistic Regression Test"
   ]
  },
  {
   "cell_type": "code",
   "execution_count": 7,
   "id": "4a573ff4",
   "metadata": {},
   "outputs": [
    {
     "name": "stdout",
     "output_type": "stream",
     "text": [
      "Precision: 0.6\n",
      "Recall: 0.5581395348837209\n",
      "f1_score: 0.5783132530120482\n",
      "Accuracy: 0.7348484848484849\n"
     ]
    }
   ],
   "source": [
    "clf = LogisticRegression(random_state=0,max_iter=1000).fit(X_train, y_train) \n",
    "y_pred = clf.predict(X_test)\n",
    "print_metrics(y_test,y_pred)"
   ]
  },
  {
   "cell_type": "markdown",
   "id": "36c1ff91",
   "metadata": {},
   "source": [
    "# SVM test"
   ]
  },
  {
   "cell_type": "code",
   "execution_count": 8,
   "id": "81d03764",
   "metadata": {},
   "outputs": [
    {
     "name": "stdout",
     "output_type": "stream",
     "text": [
      "Precision: 0.7777777777777778\n",
      "Recall: 0.4883720930232558\n",
      "f1_score: 0.6000000000000001\n",
      "Accuracy: 0.7878787878787878\n"
     ]
    }
   ],
   "source": [
    "clf1 = svm.SVC()\n",
    "clf1.fit(X_train, y_train)\n",
    "y_pred = clf1.predict(X_test)\n",
    "print_metrics(y_test,y_pred)"
   ]
  },
  {
   "cell_type": "markdown",
   "id": "9cdd1153",
   "metadata": {},
   "source": [
    "# Naive Bayes"
   ]
  },
  {
   "cell_type": "code",
   "execution_count": 9,
   "id": "62a9f712",
   "metadata": {},
   "outputs": [
    {
     "name": "stdout",
     "output_type": "stream",
     "text": [
      "Precision: 0.3474576271186441\n",
      "Recall: 0.9534883720930233\n",
      "f1_score: 0.5093167701863354\n",
      "Accuracy: 0.4015151515151515\n"
     ]
    }
   ],
   "source": [
    "clf2 = GaussianNB()\n",
    "clf2.fit(X_train, y_train)\n",
    "y_pred = clf2.predict(X_test)\n",
    "print_metrics(y_test,y_pred)"
   ]
  },
  {
   "cell_type": "markdown",
   "id": "fdb9e692",
   "metadata": {},
   "source": [
    "# KNN"
   ]
  },
  {
   "cell_type": "code",
   "execution_count": 10,
   "id": "5f901ebd",
   "metadata": {},
   "outputs": [
    {
     "name": "stdout",
     "output_type": "stream",
     "text": [
      "Precision: 0.5714285714285714\n",
      "Recall: 0.46511627906976744\n",
      "f1_score: 0.5128205128205128\n",
      "Accuracy: 0.7121212121212122\n"
     ]
    }
   ],
   "source": [
    "clf3 = KNeighborsClassifier(n_neighbors=3)\n",
    "clf3.fit(X_train, y_train)\n",
    "y_pred = clf3.predict(X_test)\n",
    "print_metrics(y_test,y_pred)"
   ]
  },
  {
   "cell_type": "markdown",
   "id": "751be154",
   "metadata": {},
   "source": [
    "# Decision Tree"
   ]
  },
  {
   "cell_type": "code",
   "execution_count": 11,
   "id": "7a280bc7",
   "metadata": {},
   "outputs": [
    {
     "name": "stdout",
     "output_type": "stream",
     "text": [
      "Precision: 0.5208333333333334\n",
      "Recall: 0.5813953488372093\n",
      "f1_score: 0.5494505494505495\n",
      "Accuracy: 0.6893939393939394\n"
     ]
    }
   ],
   "source": [
    "clf4 = tree.DecisionTreeClassifier()\n",
    "clf4.fit(X_train, y_train)\n",
    "y_pred = clf4.predict(X_test)\n",
    "print_metrics(y_test,y_pred)"
   ]
  },
  {
   "cell_type": "markdown",
   "id": "d457b0c6",
   "metadata": {},
   "source": [
    "# LDA"
   ]
  },
  {
   "cell_type": "code",
   "execution_count": 12,
   "id": "74f247ae",
   "metadata": {},
   "outputs": [
    {
     "name": "stdout",
     "output_type": "stream",
     "text": [
      "Precision: 0.6046511627906976\n",
      "Recall: 0.6046511627906976\n",
      "f1_score: 0.6046511627906976\n",
      "Accuracy: 0.7424242424242424\n"
     ]
    }
   ],
   "source": [
    "clf5 = LinearDiscriminantAnalysis()\n",
    "clf5.fit(X_train, y_train)\n",
    "y_pred = clf5.predict(X_test)\n",
    "print_metrics(y_test,y_pred)"
   ]
  },
  {
   "cell_type": "markdown",
   "id": "1a21c234",
   "metadata": {},
   "source": [
    "# QDA"
   ]
  },
  {
   "cell_type": "code",
   "execution_count": 13,
   "id": "a48b7493",
   "metadata": {},
   "outputs": [
    {
     "name": "stdout",
     "output_type": "stream",
     "text": [
      "Precision: 0.5238095238095238\n",
      "Recall: 0.5116279069767442\n",
      "f1_score: 0.5176470588235295\n",
      "Accuracy: 0.6893939393939394\n"
     ]
    }
   ],
   "source": [
    "clf6 = QuadraticDiscriminantAnalysis()\n",
    "clf6.fit(X_train, y_train)\n",
    "y_pred = clf6.predict(X_test)\n",
    "print_metrics(y_test,y_pred)"
   ]
  },
  {
   "cell_type": "markdown",
   "id": "41b55a11",
   "metadata": {},
   "source": [
    "# ADABOOST"
   ]
  },
  {
   "cell_type": "code",
   "execution_count": 14,
   "id": "a1b59287",
   "metadata": {},
   "outputs": [
    {
     "name": "stdout",
     "output_type": "stream",
     "text": [
      "Precision: 0.5526315789473685\n",
      "Recall: 0.4883720930232558\n",
      "f1_score: 0.5185185185185185\n",
      "Accuracy: 0.7045454545454546\n"
     ]
    }
   ],
   "source": [
    "from sklearn.ensemble import AdaBoostClassifier\n",
    "\n",
    "clf7 = AdaBoostClassifier(n_estimators=100, random_state=0)\n",
    "clf7.fit(X_train, y_train)\n",
    "y_pred = clf7.predict(X_test)\n",
    "print_metrics(y_test,y_pred)"
   ]
  },
  {
   "cell_type": "code",
   "execution_count": null,
   "id": "0cfbaa70",
   "metadata": {},
   "outputs": [],
   "source": []
  }
 ],
 "metadata": {
  "kernelspec": {
   "display_name": "Python 3 (ipykernel)",
   "language": "python",
   "name": "python3"
  },
  "language_info": {
   "codemirror_mode": {
    "name": "ipython",
    "version": 3
   },
   "file_extension": ".py",
   "mimetype": "text/x-python",
   "name": "python",
   "nbconvert_exporter": "python",
   "pygments_lexer": "ipython3",
   "version": "3.9.15"
  }
 },
 "nbformat": 4,
 "nbformat_minor": 5
}
